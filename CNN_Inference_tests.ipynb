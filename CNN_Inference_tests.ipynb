{
 "cells": [
  {
   "cell_type": "code",
   "execution_count": 3,
   "metadata": {
    "execution": {
     "iopub.execute_input": "2021-04-26T18:36:09.480532Z",
     "iopub.status.busy": "2021-04-26T18:36:09.480532Z",
     "iopub.status.idle": "2021-04-26T18:36:09.495530Z",
     "shell.execute_reply": "2021-04-26T18:36:09.494533Z",
     "shell.execute_reply.started": "2021-04-26T18:36:09.480532Z"
    }
   },
   "outputs": [],
   "source": [
    "import tempfile\n",
    "import os\n",
    "import glob\n",
    "from tqdm import tqdm\n",
    "\n",
    "import tensorflow as tf\n",
    "import numpy as np\n",
    "\n",
    "import pandas as pd\n",
    "import matplotlib.pyplot as plt\n",
    "\n",
    "from tensorflow import keras\n",
    "from tensorflow.keras import layers, models\n",
    "\n",
    "import matplotlib.image as mpimg\n",
    "import matplotlib.pyplot as plt"
   ]
  },
  {
   "cell_type": "code",
   "execution_count": 2,
   "metadata": {
    "execution": {
     "iopub.execute_input": "2021-04-26T18:36:06.223540Z",
     "iopub.status.busy": "2021-04-26T18:36:06.223540Z",
     "iopub.status.idle": "2021-04-26T18:36:09.479533Z",
     "shell.execute_reply": "2021-04-26T18:36:09.478564Z",
     "shell.execute_reply.started": "2021-04-26T18:36:06.223540Z"
    }
   },
   "outputs": [
    {
     "name": "stdout",
     "output_type": "stream",
     "text": [
      "1 Physical GPUs, 1 Logical GPUs\n"
     ]
    }
   ],
   "source": [
    "gpus = tf.config.experimental.list_physical_devices('GPU')\n",
    "if gpus:\n",
    "    try:\n",
    "        # Currently, memory growth needs to be the same across GPUs\n",
    "        for gpu in gpus:\n",
    "            tf.config.experimental.set_memory_growth(gpu, True)\n",
    "        logical_gpus = tf.config.experimental.list_logical_devices('GPU')\n",
    "        print(len(gpus), \"Physical GPUs,\", len(logical_gpus), \"Logical GPUs\")\n",
    "    except RuntimeError as e:\n",
    "        # Memory growth must be set before GPUs have been initialized\n",
    "        print(e)"
   ]
  },
  {
   "cell_type": "markdown",
   "metadata": {},
   "source": [
    "# Reading Train and Test Datasets"
   ]
  },
  {
   "cell_type": "code",
   "execution_count": 4,
   "metadata": {
    "execution": {
     "iopub.execute_input": "2021-04-26T18:36:14.383098Z",
     "iopub.status.busy": "2021-04-26T18:36:14.383098Z",
     "iopub.status.idle": "2021-04-26T18:36:17.941009Z",
     "shell.execute_reply": "2021-04-26T18:36:17.940010Z",
     "shell.execute_reply.started": "2021-04-26T18:36:14.383098Z"
    }
   },
   "outputs": [
    {
     "name": "stdout",
     "output_type": "stream",
     "text": [
      "Found 39209 files belonging to 43 classes.\n",
      "Using 31368 files for training.\n"
     ]
    }
   ],
   "source": [
    "directory = './trainfolders/'\n",
    "train_ds = tf.keras.preprocessing.image_dataset_from_directory(\n",
    "    directory, labels='inferred', label_mode='int',\n",
    "    color_mode='rgb', batch_size=32, image_size=(40,\n",
    "    40), shuffle=True, seed=42, validation_split=0.2, subset=\"training\"\n",
    ")"
   ]
  },
  {
   "cell_type": "code",
   "execution_count": 5,
   "metadata": {
    "execution": {
     "iopub.execute_input": "2021-04-26T18:36:17.942007Z",
     "iopub.status.busy": "2021-04-26T18:36:17.942007Z",
     "iopub.status.idle": "2021-04-26T18:36:21.421468Z",
     "shell.execute_reply": "2021-04-26T18:36:21.420430Z",
     "shell.execute_reply.started": "2021-04-26T18:36:17.942007Z"
    }
   },
   "outputs": [
    {
     "name": "stdout",
     "output_type": "stream",
     "text": [
      "Found 39209 files belonging to 43 classes.\n",
      "Using 7841 files for validation.\n"
     ]
    }
   ],
   "source": [
    "val_ds = tf.keras.preprocessing.image_dataset_from_directory(\n",
    "    directory, labels='inferred', label_mode='int',\n",
    "    color_mode='rgb', batch_size=32, image_size=(40,\n",
    "    40), shuffle=True, seed=42, validation_split=0.2, subset=\"validation\"\n",
    ")"
   ]
  },
  {
   "cell_type": "code",
   "execution_count": 25,
   "metadata": {
    "execution": {
     "iopub.execute_input": "2021-04-26T22:39:07.624490Z",
     "iopub.status.busy": "2021-04-26T22:39:07.623565Z",
     "iopub.status.idle": "2021-04-26T22:39:10.187273Z",
     "shell.execute_reply": "2021-04-26T22:39:10.186317Z",
     "shell.execute_reply.started": "2021-04-26T22:39:07.624490Z"
    }
   },
   "outputs": [
    {
     "name": "stdout",
     "output_type": "stream",
     "text": [
      "Found 12630 files belonging to 43 classes.\n",
      "Found 12630 files belonging to 43 classes.\n",
      "Found 12630 files belonging to 43 classes.\n"
     ]
    }
   ],
   "source": [
    "gaussdirectory = './noisydata/gaussian50/'\n",
    "gaussian_testds = tf.keras.preprocessing.image_dataset_from_directory(\n",
    "    gaussdirectory, labels='inferred', label_mode='int',\n",
    "    color_mode='rgb', batch_size=32, image_size=(40,\n",
    "    40), shuffle=True, seed=42,\n",
    ")\n",
    "saltdirectory = './noisydata/salt-n-pepper/'\n",
    "salt_testds = tf.keras.preprocessing.image_dataset_from_directory(\n",
    "    saltdirectory, labels='inferred', label_mode='int',\n",
    "    color_mode='rgb', batch_size=32, image_size=(40,\n",
    "    40), shuffle=True, seed=42,\n",
    ")\n",
    "perioddirectory = './noisydata/periodic/'\n",
    "period_testds = tf.keras.preprocessing.image_dataset_from_directory(\n",
    "    perioddirectory, labels='inferred', label_mode='int',\n",
    "    color_mode='rgb', batch_size=32, image_size=(40,\n",
    "    40), shuffle=True, seed=42,\n",
    ")"
   ]
  },
  {
   "cell_type": "code",
   "execution_count": 27,
   "metadata": {
    "execution": {
     "iopub.execute_input": "2021-04-26T22:40:02.543123Z",
     "iopub.status.busy": "2021-04-26T22:40:02.543123Z",
     "iopub.status.idle": "2021-04-26T22:40:04.287169Z",
     "shell.execute_reply": "2021-04-26T22:40:04.286168Z",
     "shell.execute_reply.started": "2021-04-26T22:40:02.543123Z"
    }
   },
   "outputs": [
    {
     "name": "stdout",
     "output_type": "stream",
     "text": [
      "Found 12630 files belonging to 43 classes.\n",
      "Found 12630 files belonging to 43 classes.\n"
     ]
    }
   ],
   "source": [
    "testdirectory = './testfolders/'\n",
    "test_ds = tf.keras.preprocessing.image_dataset_from_directory(\n",
    "    testdirectory, labels='inferred', label_mode='int',\n",
    "    color_mode='rgb', batch_size=32, image_size=(40,\n",
    "    40), shuffle=True, seed=42,\n",
    ")\n",
    "\n",
    "grey_testdirectory = './graydata/test/'\n",
    "grey_test_ds = tf.keras.preprocessing.image_dataset_from_directory(\n",
    "    grey_testdirectory, labels='inferred', label_mode='int',\n",
    "    color_mode='rgb', batch_size=32, image_size=(40,\n",
    "    40), shuffle=True, seed=42,\n",
    ")"
   ]
  },
  {
   "cell_type": "markdown",
   "metadata": {},
   "source": [
    "# Defining CNN Model"
   ]
  },
  {
   "cell_type": "code",
   "execution_count": 7,
   "metadata": {
    "execution": {
     "iopub.execute_input": "2021-04-26T18:36:23.913848Z",
     "iopub.status.busy": "2021-04-26T18:36:23.912848Z",
     "iopub.status.idle": "2021-04-26T18:36:23.930848Z",
     "shell.execute_reply": "2021-04-26T18:36:23.929847Z",
     "shell.execute_reply.started": "2021-04-26T18:36:23.913848Z"
    }
   },
   "outputs": [],
   "source": [
    "def getModel():\n",
    "    num_classes = 43\n",
    "    img_height=40\n",
    "    img_width=40\n",
    "\n",
    "\n",
    "    model = models.Sequential([\n",
    "      layers.experimental.preprocessing.Rescaling(1./255, input_shape=(img_height, img_width, 3)),\n",
    "      layers.Conv2D(16, 3, padding='same', activation='relu'),\n",
    "      layers.MaxPooling2D(),\n",
    "      layers.Conv2D(32, 3, padding='same', activation='relu'),\n",
    "      layers.MaxPooling2D(),\n",
    "      layers.Conv2D(64, 3, padding='same', activation='relu'),\n",
    "      layers.MaxPooling2D(),\n",
    "      layers.Flatten(),\n",
    "      layers.Dense(128, activation='relu'),\n",
    "      layers.Dense(num_classes)\n",
    "    ])\n",
    "    \n",
    "    return model"
   ]
  },
  {
   "cell_type": "code",
   "execution_count": 36,
   "metadata": {
    "execution": {
     "iopub.execute_input": "2021-04-26T23:15:23.759208Z",
     "iopub.status.busy": "2021-04-26T23:15:23.759208Z",
     "iopub.status.idle": "2021-04-26T23:15:23.779273Z",
     "shell.execute_reply": "2021-04-26T23:15:23.778309Z",
     "shell.execute_reply.started": "2021-04-26T23:15:23.759208Z"
    }
   },
   "outputs": [],
   "source": [
    "def getGaussNoiseModel():\n",
    "    num_classes = 43\n",
    "    img_height=40\n",
    "    img_width=40\n",
    "\n",
    "\n",
    "    model = models.Sequential([\n",
    "      layers.experimental.preprocessing.Rescaling(1./255, input_shape=(img_height, img_width, 3)),\n",
    "      layers.GaussianNoise(1.7775),\n",
    "      layers.Conv2D(16, 3, padding='same', activation='relu'),\n",
    "      layers.MaxPooling2D(),\n",
    "      layers.Conv2D(32, 3, padding='same', activation='relu'),\n",
    "      layers.MaxPooling2D(),\n",
    "      layers.Conv2D(64, 3, padding='same', activation='relu'),\n",
    "      layers.MaxPooling2D(),\n",
    "      layers.Flatten(),\n",
    "      layers.Dense(128, activation='relu'),\n",
    "      layers.Dense(num_classes)\n",
    "    ])\n",
    "    \n",
    "    return model"
   ]
  },
  {
   "cell_type": "markdown",
   "metadata": {},
   "source": [
    "# Experiments"
   ]
  },
  {
   "cell_type": "markdown",
   "metadata": {},
   "source": [
    "## Experiment 1: Effect Noise on Trained CNN Image Classifiers "
   ]
  },
  {
   "cell_type": "code",
   "execution_count": 9,
   "metadata": {
    "execution": {
     "iopub.execute_input": "2021-04-26T18:36:27.485615Z",
     "iopub.status.busy": "2021-04-26T18:36:27.484611Z",
     "iopub.status.idle": "2021-04-26T18:36:27.605848Z",
     "shell.execute_reply": "2021-04-26T18:36:27.605026Z",
     "shell.execute_reply.started": "2021-04-26T18:36:27.485615Z"
    }
   },
   "outputs": [],
   "source": [
    "snpmodel1 = getModel()\n",
    "snpmodel1.compile(optimizer='adam',\n",
    "              loss=tf.keras.losses.SparseCategoricalCrossentropy(from_logits=True),\n",
    "              metrics=['accuracy'])"
   ]
  },
  {
   "cell_type": "code",
   "execution_count": 10,
   "metadata": {
    "execution": {
     "iopub.execute_input": "2021-04-26T18:36:30.514239Z",
     "iopub.status.busy": "2021-04-26T18:36:30.514239Z",
     "iopub.status.idle": "2021-04-26T18:36:30.528274Z",
     "shell.execute_reply": "2021-04-26T18:36:30.527272Z",
     "shell.execute_reply.started": "2021-04-26T18:36:30.514239Z"
    }
   },
   "outputs": [
    {
     "name": "stdout",
     "output_type": "stream",
     "text": [
      "Model: \"sequential\"\n",
      "_________________________________________________________________\n",
      "Layer (type)                 Output Shape              Param #   \n",
      "=================================================================\n",
      "rescaling (Rescaling)        (None, 40, 40, 3)         0         \n",
      "_________________________________________________________________\n",
      "conv2d (Conv2D)              (None, 40, 40, 16)        448       \n",
      "_________________________________________________________________\n",
      "max_pooling2d (MaxPooling2D) (None, 20, 20, 16)        0         \n",
      "_________________________________________________________________\n",
      "conv2d_1 (Conv2D)            (None, 20, 20, 32)        4640      \n",
      "_________________________________________________________________\n",
      "max_pooling2d_1 (MaxPooling2 (None, 10, 10, 32)        0         \n",
      "_________________________________________________________________\n",
      "conv2d_2 (Conv2D)            (None, 10, 10, 64)        18496     \n",
      "_________________________________________________________________\n",
      "max_pooling2d_2 (MaxPooling2 (None, 5, 5, 64)          0         \n",
      "_________________________________________________________________\n",
      "flatten (Flatten)            (None, 1600)              0         \n",
      "_________________________________________________________________\n",
      "dense (Dense)                (None, 128)               204928    \n",
      "_________________________________________________________________\n",
      "dense_1 (Dense)              (None, 43)                5547      \n",
      "=================================================================\n",
      "Total params: 234,059\n",
      "Trainable params: 234,059\n",
      "Non-trainable params: 0\n",
      "_________________________________________________________________\n"
     ]
    }
   ],
   "source": [
    "snpmodel1.summary()"
   ]
  },
  {
   "cell_type": "code",
   "execution_count": 11,
   "metadata": {
    "execution": {
     "iopub.execute_input": "2021-04-26T18:36:35.815370Z",
     "iopub.status.busy": "2021-04-26T18:36:35.815370Z",
     "iopub.status.idle": "2021-04-26T18:44:05.709703Z",
     "shell.execute_reply": "2021-04-26T18:44:05.708704Z",
     "shell.execute_reply.started": "2021-04-26T18:36:35.815370Z"
    }
   },
   "outputs": [
    {
     "name": "stdout",
     "output_type": "stream",
     "text": [
      "Epoch 1/10\n",
      "981/981 [==============================] - 215s 219ms/step - loss: 1.4374 - accuracy: 0.6037 - val_loss: 0.4859 - val_accuracy: 0.8621\n",
      "Epoch 2/10\n",
      "981/981 [==============================] - 25s 26ms/step - loss: 0.3336 - accuracy: 0.9022 - val_loss: 0.2509 - val_accuracy: 0.9262loss: 0.5019 - accuracy: 0.8 - ETA: 19s - loss: 0.4952 - accuracy:  - ETA: 18s - loss: 0.4856 -  - ETA: 17s - loss: 0.484 - ETA: 16s -  - ETA: 14s - loss: 0.4416 - a - ETA: 10s - loss: 0.4014 - accuracy:  - ETA: 10s - loss: 0.3967 - accuracy: 0.8 - ETA: 9s - loss: 0.3930 - a - ETA: 9s - loss: 0.3889 - accuracy:  - ETA: 9s - loss: - ETA: 8s - loss: 0.3851 - accu - ETA: 8s - loss: 0.3825 - accuracy: 0. - ETA: 7s - loss: 0.3812 - accuracy: 0.88 - E - ETA: 3s - - ETA: 2s - loss: 0.3451 - accuracy: 0. - ETA: 2s - loss: 0.3442 - accu - ETA: 2s - loss: 0.342 - ETA: 1s - loss: 0.3400 - accu - ETA: 1s - - ETA: 0s - loss: 0.3344 - accuracy: 0.\n",
      "Epoch 3/10\n",
      "981/981 [==============================] - 26s 26ms/step - loss: 0.1679 - accuracy: 0.9508 - val_loss: 0.1674 - val_accuracy: 0.9510: 17s - loss: 0.2289 - accu - ETA: 16s - loss: 0.2321 - ac - ETA: 15s - loss: 0.2256 - accuracy:  - ETA: 15s - loss: 0.2252 - accuracy: 0 - ETA: 15s - loss: 0.2222 - accurac - ETA: 14s - loss: 0.2180 -  - ETA: 13s - loss: 0.2106 - accuracy - ETA: 13s - loss: 0.2088 - accuracy: 0 - ETA: 12s - loss: 0.2069 - accuracy:  - ETA: 12s - loss:  - ETA: 10s - loss: 0.1967 - ETA: 8s - loss: 0.1869 - accuracy: 0.94 - ETA: 8s - ETA: 7s - loss: 0.182 - ETA: 6s - - ETA: 4s - loss: - ETA: 3s - loss: 0.1749  - ETA\n",
      "Epoch 4/10\n",
      "981/981 [==============================] - 25s 25ms/step - loss: 0.1056 - accuracy: 0.9682 - val_loss: 0.1542 - val_accuracy: 0.9522ss: 0.1204 - accu - ETA: 9s - loss: 0.1198 - accura - ETA: 6s - loss: 0.1105 - accuracy:  - ETA: 5s - loss: 0.1105 - accura - ETA: 5s - loss: 0.1 - ETA:  - ETA: 2s - loss: 0.1076 - accu - ETA: 0s - loss: 0.1062 - ac\n",
      "Epoch 5/10\n",
      "981/981 [==============================] - 25s 26ms/step - loss: 0.0753 - accuracy: 0.9777 - val_loss: 0.1131 - val_accuracy: 0.9695loss: 0.0810 -  - ETA: 9s - loss: - ETA: 9s - loss: 0.0811 - accu - ETA: 8s - loss: 0.0806  - ETA: 8s - los - ETA: 7s - loss: 0.0802 -  - ETA: 6s - loss: 0.0792 -  - - ETA: 0s - loss: 0.0765 - accuracy:  - ETA: 0s - loss: 0.0761 \n",
      "Epoch 6/10\n",
      "981/981 [==============================] - 25s 26ms/step - loss: 0.0560 - accuracy: 0.9825 - val_loss: 0.1338 - val_accuracy: 0.9667TA: 19s - loss: 0.0829 - ETA: 17s - loss: 0.0760 - accuracy: 0.9 - ETA: 17s - lo - ETA: 15s - loss: 0.0682 - accuracy: 0.978 - ETA: 15s - loss: 0.0 - ETA: 11s - loss: 0.0636 - accuracy: 0.980 - ETA: 11s - los - ETA: 9s - loss: 0.0627 - accuracy: 0.980 - E - ETA: 7s - loss: 0.0597 - accu - ETA: 6s - loss: 0.0592 -  - ETA: 2s - loss: 0 - ETA: 1s - loss: 0.056 - ETA: 1s - loss: 0.0568  - ETA: 0s - loss: 0.0565 - accura - ETA: 0s - loss: 0.0562 - accuracy: 0.98\n",
      "Epoch 7/10\n",
      "981/981 [==============================] - 25s 26ms/step - loss: 0.0497 - accuracy: 0.9841 - val_loss: 0.1114 - val_accuracy: 0.9695oss: 0. -  - ETA: 11s - loss: 0.0608 - accuracy - ETA: 10s - loss: 0.0588 - accura - ETA: 10s - loss: 0.0575 - ac - ETA: 9s - loss: 0.0561 - accuracy: 0.98 - ETA:  - ETA: 8s - - ETA: 7s - los - - ETA: 4s - loss: 0.0525 -  - ETA: 0s - loss: 0.0503 - accura - ETA: 0s - loss: 0.0499 - accuracy:  - ETA: 0s - loss: 0.0498 - accuracy: 0.98\n",
      "Epoch 8/10\n",
      "981/981 [==============================] - 25s 25ms/step - loss: 0.0365 - accuracy: 0.9892 - val_loss: 0.1489 - val_accuracy: 0.9668accuracy: 0.994 - ETA: 17s - - ETA: 3s - loss: 0.0347 - accuracy: 0. - ETA: 3s - loss: 0.0349 - accu - ETA: 1s - loss: 0 - ETA: 0s - loss: 0.0362 - accuracy - ETA: 0s - loss: 0.0368 - accu\n",
      "Epoch 9/10\n",
      "981/981 [==============================] - 25s 25ms/step - loss: 0.0362 - accuracy: 0.9883 - val_loss: 0.1280 - val_accuracy: 0.9722loss: 0.0566 - ac - ETA: 18s - loss: 0.0560 - accuracy: - ETA: 18s - loss: 0. - ETA: 16s - loss: 0.0522 - ac - ETA: 0s - loss: 0.0362 - accuracy: \n",
      "Epoch 10/10\n",
      "981/981 [==============================] - 25s 25ms/step - loss: 0.0265 - accuracy: 0.9916 - val_loss: 0.0987 - val_accuracy: 0.9764\n"
     ]
    }
   ],
   "source": [
    "epochs=10\n",
    "snphistory1 = snpmodel1.fit(\n",
    "  train_ds,\n",
    "  validation_data=val_ds,\n",
    "  epochs=epochs,\n",
    "    verbose=1\n",
    ")"
   ]
  },
  {
   "cell_type": "code",
   "execution_count": 12,
   "metadata": {
    "execution": {
     "iopub.execute_input": "2021-04-26T18:44:55.593429Z",
     "iopub.status.busy": "2021-04-26T18:44:55.593429Z",
     "iopub.status.idle": "2021-04-26T18:44:55.936859Z",
     "shell.execute_reply": "2021-04-26T18:44:55.936859Z",
     "shell.execute_reply.started": "2021-04-26T18:44:55.593429Z"
    }
   },
   "outputs": [
    {
     "data": {
      "image/png": "[encoded data removed]",
      "text/plain": [
       "<Figure size 720x360 with 2 Axes>"
      ]
     },
     "metadata": {
      "needs_background": "light"
     },
     "output_type": "display_data"
    }
   ],
   "source": [
    "acc = snphistory1.history['accuracy']\n",
    "val_acc = snphistory1.history['val_accuracy']\n",
    "\n",
    "loss = snphistory1.history['loss']\n",
    "val_loss = snphistory1.history['val_loss']\n",
    "\n",
    "epochs_range = range(epochs)\n",
    "\n",
    "plt.figure(figsize=(10, 5))\n",
    "plt.subplot(1, 2, 1)\n",
    "plt.plot(epochs_range, acc, label='Training Accuracy')\n",
    "plt.plot(epochs_range, val_acc, label='Validation Accuracy')\n",
    "plt.legend(loc='lower right')\n",
    "plt.title('Training and Validation Accuracy')\n",
    "\n",
    "plt.subplot(1, 2, 2)\n",
    "plt.plot(epochs_range, loss, label='Training Loss')\n",
    "plt.plot(epochs_range, val_loss, label='Validation Loss')\n",
    "plt.legend(loc='upper right')\n",
    "plt.title('Training and Validation Loss')\n",
    "plt.show()"
   ]
  },
  {
   "cell_type": "code",
   "execution_count": 13,
   "metadata": {
    "execution": {
     "iopub.execute_input": "2021-04-26T01:22:57.028252Z",
     "iopub.status.busy": "2021-04-26T01:22:57.028252Z",
     "iopub.status.idle": "2021-04-26T01:23:35.743428Z",
     "shell.execute_reply": "2021-04-26T01:23:35.743428Z",
     "shell.execute_reply.started": "2021-04-26T01:22:57.028252Z"
    }
   },
   "outputs": [
    {
     "name": "stdout",
     "output_type": "stream",
     "text": [
      "395/395 [==============================] - 37s 94ms/step - loss: 0.6562 - accuracy: 0.8821: 14s - los - ETA: 4s - los - ETA: 2s - loss: 0.654\n"
     ]
    }
   ],
   "source": [
    "test_loss, test_acc = snpmodel1.evaluate(test_ds, verbose=1)"
   ]
  },
  {
   "cell_type": "markdown",
   "metadata": {},
   "source": [
    "#### salt and pepper with a probability of 0.4%"
   ]
  },
  {
   "cell_type": "code",
   "execution_count": 14,
   "metadata": {
    "execution": {
     "iopub.execute_input": "2021-04-26T01:23:49.248036Z",
     "iopub.status.busy": "2021-04-26T01:23:49.248036Z",
     "iopub.status.idle": "2021-04-26T01:23:57.597512Z",
     "shell.execute_reply": "2021-04-26T01:23:57.597151Z",
     "shell.execute_reply.started": "2021-04-26T01:23:49.248036Z"
    }
   },
   "outputs": [
    {
     "name": "stdout",
     "output_type": "stream",
     "text": [
      "395/395 [==============================] - 8s 21ms/step - loss: 2.4364 - accuracy: 0.6811 1s - loss: 2.4421 - accuracy: 0. - ETA: \n"
     ]
    }
   ],
   "source": [
    "test_loss, test_acc = snpmodel1.evaluate(salt_testds, verbose=1)"
   ]
  },
  {
   "cell_type": "code",
   "execution_count": 27,
   "metadata": {
    "execution": {
     "iopub.execute_input": "2021-04-26T01:40:42.504628Z",
     "iopub.status.busy": "2021-04-26T01:40:42.503586Z",
     "iopub.status.idle": "2021-04-26T01:40:42.812953Z",
     "shell.execute_reply": "2021-04-26T01:40:42.811940Z",
     "shell.execute_reply.started": "2021-04-26T01:40:42.504628Z"
    }
   },
   "outputs": [
    {
     "data": {
      "text/plain": [
       "<matplotlib.image.AxesImage at 0x1c42fed9648>"
      ]
     },
     "execution_count": 27,
     "metadata": {},
     "output_type": "execute_result"
    },
    {
     "data": {
      "image/png": "[encoded data removed]",
      "text/plain": [
       "<Figure size 432x288 with 1 Axes>"
      ]
     },
     "metadata": {
      "needs_background": "light"
     },
     "output_type": "display_data"
    }
   ],
   "source": [
    "get = next(iter(salt_testds))\n",
    "\n",
    "plt.imshow(get[0][0].numpy().astype(\"uint8\"))"
   ]
  },
  {
   "cell_type": "markdown",
   "metadata": {},
   "source": [
    "#### Gaussian noise with kernel standard deviation +50"
   ]
  },
  {
   "cell_type": "code",
   "execution_count": 19,
   "metadata": {
    "execution": {
     "iopub.execute_input": "2021-04-26T01:37:07.599090Z",
     "iopub.status.busy": "2021-04-26T01:37:07.599090Z",
     "iopub.status.idle": "2021-04-26T01:37:15.819413Z",
     "shell.execute_reply": "2021-04-26T01:37:15.819413Z",
     "shell.execute_reply.started": "2021-04-26T01:37:07.599090Z"
    }
   },
   "outputs": [
    {
     "name": "stdout",
     "output_type": "stream",
     "text": [
      "395/395 [==============================] - 8s 20ms/step - loss: 40.0037 - accuracy: 0.0474: 2s - loss: 39.9744 - - ETA: 1s - loss: 39.9711 - accur - ETA: 0s - loss: 40.0276 - accura\n"
     ]
    }
   ],
   "source": [
    "test_loss, test_acc = snpmodel1.evaluate(gaussian_testds, verbose=1)"
   ]
  },
  {
   "cell_type": "code",
   "execution_count": 29,
   "metadata": {
    "execution": {
     "iopub.execute_input": "2021-04-26T01:40:48.428501Z",
     "iopub.status.busy": "2021-04-26T01:40:48.428501Z",
     "iopub.status.idle": "2021-04-26T01:40:48.728897Z",
     "shell.execute_reply": "2021-04-26T01:40:48.728217Z",
     "shell.execute_reply.started": "2021-04-26T01:40:48.428501Z"
    }
   },
   "outputs": [
    {
     "data": {
      "text/plain": [
       "<matplotlib.image.AxesImage at 0x1c42ff72608>"
      ]
     },
     "execution_count": 29,
     "metadata": {},
     "output_type": "execute_result"
    },
    {
     "data": {
      "image/png": "[encoded data removed]",
      "text/plain": [
       "<Figure size 432x288 with 1 Axes>"
      ]
     },
     "metadata": {
      "needs_background": "light"
     },
     "output_type": "display_data"
    }
   ],
   "source": [
    "get = next(iter(gaussian_testds))\n",
    "\n",
    "plt.imshow(get[0][0].numpy().astype(\"uint8\"))"
   ]
  },
  {
   "cell_type": "markdown",
   "metadata": {},
   "source": [
    "#### Periodic noise with frequency "
   ]
  },
  {
   "cell_type": "code",
   "execution_count": 32,
   "metadata": {
    "execution": {
     "iopub.execute_input": "2021-04-26T22:45:48.393477Z",
     "iopub.status.busy": "2021-04-26T22:45:48.393477Z",
     "iopub.status.idle": "2021-04-26T22:46:18.673657Z",
     "shell.execute_reply": "2021-04-26T22:46:18.672701Z",
     "shell.execute_reply.started": "2021-04-26T22:45:48.393477Z"
    }
   },
   "outputs": [
    {
     "name": "stdout",
     "output_type": "stream",
     "text": [
      "395/395 [==============================] - 28s 70ms/step - loss: 18.6441 - accuracy: 0.1054 24s - loss: 18.450 - ETA: 2s - loss: 18.6220 - a\n"
     ]
    }
   ],
   "source": [
    "test_loss, test_acc = snpmodel1.evaluate(period_testds, verbose=1)"
   ]
  },
  {
   "cell_type": "code",
   "execution_count": 30,
   "metadata": {
    "execution": {
     "iopub.execute_input": "2021-04-26T01:40:54.730824Z",
     "iopub.status.busy": "2021-04-26T01:40:54.730824Z",
     "iopub.status.idle": "2021-04-26T01:40:55.033493Z",
     "shell.execute_reply": "2021-04-26T01:40:55.032493Z",
     "shell.execute_reply.started": "2021-04-26T01:40:54.730824Z"
    }
   },
   "outputs": [
    {
     "data": {
      "text/plain": [
       "<matplotlib.image.AxesImage at 0x1c4312bf908>"
      ]
     },
     "execution_count": 30,
     "metadata": {},
     "output_type": "execute_result"
    },
    {
     "data": {
      "image/png": "[encoded data removed]",
      "text/plain": [
       "<Figure size 432x288 with 1 Axes>"
      ]
     },
     "metadata": {
      "needs_background": "light"
     },
     "output_type": "display_data"
    }
   ],
   "source": [
    "get = next(iter(period_testds))\n",
    "\n",
    "plt.imshow(get[0][0].numpy().astype(\"uint8\"))"
   ]
  },
  {
   "cell_type": "markdown",
   "metadata": {},
   "source": [
    "## Experiment 2: Effect of 50% less noise on Trained CNN Image Classifiers"
   ]
  },
  {
   "cell_type": "code",
   "execution_count": 31,
   "metadata": {
    "execution": {
     "iopub.execute_input": "2021-04-26T01:57:13.404267Z",
     "iopub.status.busy": "2021-04-26T01:57:13.403267Z",
     "iopub.status.idle": "2021-04-26T01:57:16.126545Z",
     "shell.execute_reply": "2021-04-26T01:57:16.125588Z",
     "shell.execute_reply.started": "2021-04-26T01:57:13.404267Z"
    }
   },
   "outputs": [
    {
     "name": "stdout",
     "output_type": "stream",
     "text": [
      "Found 12630 files belonging to 43 classes.\n",
      "Found 12630 files belonging to 43 classes.\n",
      "Found 12630 files belonging to 43 classes.\n"
     ]
    }
   ],
   "source": [
    "gauss50directory = './noisydata/gaussian25/'\n",
    "gaussian_50_testds = tf.keras.preprocessing.image_dataset_from_directory(\n",
    "    gauss50directory, labels='inferred', label_mode='int',\n",
    "    color_mode='rgb', batch_size=32, image_size=(40,\n",
    "    40), shuffle=True, seed=42,\n",
    ")\n",
    "salt50directory = './noisydata/salt-n-pepper0.001/'\n",
    "salt_50_testds = tf.keras.preprocessing.image_dataset_from_directory(\n",
    "    salt50directory, labels='inferred', label_mode='int',\n",
    "    color_mode='rgb', batch_size=32, image_size=(40,\n",
    "    40), shuffle=True, seed=42,\n",
    ")\n",
    "period50directory = './noisydata/periodic0.25/'\n",
    "period_50_testds = tf.keras.preprocessing.image_dataset_from_directory(\n",
    "    period50directory, labels='inferred', label_mode='int',\n",
    "    color_mode='rgb', batch_size=32, image_size=(40,\n",
    "    40), shuffle=True, seed=42,\n",
    ")"
   ]
  },
  {
   "cell_type": "code",
   "execution_count": 32,
   "metadata": {
    "execution": {
     "iopub.execute_input": "2021-04-26T01:58:02.526855Z",
     "iopub.status.busy": "2021-04-26T01:58:02.526855Z",
     "iopub.status.idle": "2021-04-26T01:58:11.076188Z",
     "shell.execute_reply": "2021-04-26T01:58:11.075162Z",
     "shell.execute_reply.started": "2021-04-26T01:58:02.526855Z"
    }
   },
   "outputs": [
    {
     "name": "stdout",
     "output_type": "stream",
     "text": [
      "395/395 [==============================] - 8s 21ms/step - loss: 0.6562 - accuracy: 0.8821 4s - l - ETA: 3s - loss: 0.6299 - ac - ETA: 1s - loss: 0.6572  - E\n"
     ]
    }
   ],
   "source": [
    "test_loss, test_acc = snpmodel1.evaluate(test_ds, verbose=1)"
   ]
  },
  {
   "cell_type": "markdown",
   "metadata": {},
   "source": [
    "#### salt and pepper with a probability of 0.2%"
   ]
  },
  {
   "cell_type": "code",
   "execution_count": 33,
   "metadata": {
    "execution": {
     "iopub.execute_input": "2021-04-26T01:58:12.411678Z",
     "iopub.status.busy": "2021-04-26T01:58:12.411678Z",
     "iopub.status.idle": "2021-04-26T01:58:21.348808Z",
     "shell.execute_reply": "2021-04-26T01:58:21.348101Z",
     "shell.execute_reply.started": "2021-04-26T01:58:12.411678Z"
    }
   },
   "outputs": [
    {
     "name": "stdout",
     "output_type": "stream",
     "text": [
      "395/395 [==============================] - 9s 22ms/step - loss: 1.5981 - accuracy: 0.7553\n"
     ]
    }
   ],
   "source": [
    "test_loss, test_acc = snpmodel1.evaluate(salt_50_testds, verbose=1)"
   ]
  },
  {
   "cell_type": "markdown",
   "metadata": {},
   "source": [
    "#### Gaussian noise with kernel standard deviation +25"
   ]
  },
  {
   "cell_type": "code",
   "execution_count": 34,
   "metadata": {
    "execution": {
     "iopub.execute_input": "2021-04-26T01:58:25.601828Z",
     "iopub.status.busy": "2021-04-26T01:58:25.601828Z",
     "iopub.status.idle": "2021-04-26T01:58:34.268556Z",
     "shell.execute_reply": "2021-04-26T01:58:34.267834Z",
     "shell.execute_reply.started": "2021-04-26T01:58:25.601828Z"
    }
   },
   "outputs": [
    {
     "name": "stdout",
     "output_type": "stream",
     "text": [
      "395/395 [==============================] - 8s 21ms/step - loss: 40.0037 - accuracy: 0.0474\n"
     ]
    }
   ],
   "source": [
    "test_loss, test_acc = snpmodel1.evaluate(gaussian_50_testds, verbose=1)"
   ]
  },
  {
   "cell_type": "markdown",
   "metadata": {},
   "source": [
    "#### Periodic noise with half frequency "
   ]
  },
  {
   "cell_type": "code",
   "execution_count": 35,
   "metadata": {
    "execution": {
     "iopub.execute_input": "2021-04-26T01:58:49.983276Z",
     "iopub.status.busy": "2021-04-26T01:58:49.983276Z",
     "iopub.status.idle": "2021-04-26T01:58:58.587296Z",
     "shell.execute_reply": "2021-04-26T01:58:58.586298Z",
     "shell.execute_reply.started": "2021-04-26T01:58:49.983276Z"
    }
   },
   "outputs": [
    {
     "name": "stdout",
     "output_type": "stream",
     "text": [
      "395/395 [==============================] - 8s 21ms/step - loss: 3.5847 - accuracy: 0.5791\n"
     ]
    }
   ],
   "source": [
    "test_loss, test_acc = snpmodel1.evaluate(period_50_testds, verbose=1)"
   ]
  },
  {
   "cell_type": "code",
   "execution_count": 36,
   "metadata": {
    "execution": {
     "iopub.execute_input": "2021-04-26T01:59:43.504830Z",
     "iopub.status.busy": "2021-04-26T01:59:43.503829Z",
     "iopub.status.idle": "2021-04-26T01:59:43.810890Z",
     "shell.execute_reply": "2021-04-26T01:59:43.810737Z",
     "shell.execute_reply.started": "2021-04-26T01:59:43.504830Z"
    }
   },
   "outputs": [
    {
     "data": {
      "text/plain": [
       "<matplotlib.image.AxesImage at 0x1c4313c8f48>"
      ]
     },
     "execution_count": 36,
     "metadata": {},
     "output_type": "execute_result"
    },
    {
     "data": {
      "image/png": "[encoded data removed]",
      "text/plain": [
       "<Figure size 432x288 with 1 Axes>"
      ]
     },
     "metadata": {
      "needs_background": "light"
     },
     "output_type": "display_data"
    }
   ],
   "source": [
    "get = next(iter(salt_50_testds))\n",
    "\n",
    "plt.imshow(get[0][0].numpy().astype(\"uint8\"))"
   ]
  },
  {
   "cell_type": "code",
   "execution_count": 37,
   "metadata": {
    "execution": {
     "iopub.execute_input": "2021-04-26T01:59:50.947767Z",
     "iopub.status.busy": "2021-04-26T01:59:50.947767Z",
     "iopub.status.idle": "2021-04-26T01:59:51.256741Z",
     "shell.execute_reply": "2021-04-26T01:59:51.255765Z",
     "shell.execute_reply.started": "2021-04-26T01:59:50.947767Z"
    }
   },
   "outputs": [
    {
     "data": {
      "text/plain": [
       "<matplotlib.image.AxesImage at 0x1c431495d48>"
      ]
     },
     "execution_count": 37,
     "metadata": {},
     "output_type": "execute_result"
    },
    {
     "data": {
      "image/png": "[encoded data removed]",
      "text/plain": [
       "<Figure size 432x288 with 1 Axes>"
      ]
     },
     "metadata": {
      "needs_background": "light"
     },
     "output_type": "display_data"
    }
   ],
   "source": [
    "get = next(iter(gaussian_50_testds))\n",
    "\n",
    "plt.imshow(get[0][0].numpy().astype(\"uint8\"))"
   ]
  },
  {
   "cell_type": "code",
   "execution_count": 38,
   "metadata": {
    "execution": {
     "iopub.execute_input": "2021-04-26T01:59:57.175637Z",
     "iopub.status.busy": "2021-04-26T01:59:57.175637Z",
     "iopub.status.idle": "2021-04-26T01:59:57.489596Z",
     "shell.execute_reply": "2021-04-26T01:59:57.488594Z",
     "shell.execute_reply.started": "2021-04-26T01:59:57.175637Z"
    }
   },
   "outputs": [
    {
     "data": {
      "text/plain": [
       "<matplotlib.image.AxesImage at 0x1c4315c3188>"
      ]
     },
     "execution_count": 38,
     "metadata": {},
     "output_type": "execute_result"
    },
    {
     "data": {
      "image/png": "[encoded data removed]",
      "text/plain": [
       "<Figure size 432x288 with 1 Axes>"
      ]
     },
     "metadata": {
      "needs_background": "light"
     },
     "output_type": "display_data"
    }
   ],
   "source": [
    "get = next(iter(period_50_testds))\n",
    "\n",
    "plt.imshow(get[0][0].numpy().astype(\"uint8\"))"
   ]
  },
  {
   "cell_type": "markdown",
   "metadata": {},
   "source": [
    "### Experiment 3:  A more detailed look at Periodic Noise"
   ]
  },
  {
   "cell_type": "markdown",
   "metadata": {},
   "source": [
    "#### Experiment 3.1 :- 50% less magnitude (not frequency) periodic noise"
   ]
  },
  {
   "cell_type": "code",
   "execution_count": 39,
   "metadata": {
    "execution": {
     "iopub.execute_input": "2021-04-26T02:04:16.800607Z",
     "iopub.status.busy": "2021-04-26T02:04:16.800607Z",
     "iopub.status.idle": "2021-04-26T02:04:26.734577Z",
     "shell.execute_reply": "2021-04-26T02:04:26.733577Z",
     "shell.execute_reply.started": "2021-04-26T02:04:16.800607Z"
    }
   },
   "outputs": [
    {
     "name": "stdout",
     "output_type": "stream",
     "text": [
      "Found 12630 files belonging to 43 classes.\n",
      "395/395 [==============================] - 9s 22ms/step - loss: 9.0131 - accuracy: 0.3189\n"
     ]
    },
    {
     "data": {
      "text/plain": [
       "<matplotlib.image.AxesImage at 0x1c4316e7a08>"
      ]
     },
     "execution_count": 39,
     "metadata": {},
     "output_type": "execute_result"
    },
    {
     "data": {
      "image/png": "[encoded data removed]",
      "text/plain": [
       "<Figure size 432x288 with 1 Axes>"
      ]
     },
     "metadata": {
      "needs_background": "light"
     },
     "output_type": "display_data"
    }
   ],
   "source": [
    "period05directory = './noisydata/periodic0.25/'\n",
    "\n",
    "period_05_testds = tf.keras.preprocessing.image_dataset_from_directory(\n",
    "    period50directory, labels='inferred', label_mode='int',\n",
    "    color_mode='rgb', batch_size=32, image_size=(40,\n",
    "    40), shuffle=True, seed=42,\n",
    ")\n",
    "test_loss, test_acc = snpmodel1.evaluate(period_50_testds, verbose=1)\n",
    "\n",
    "get = next(iter(period_50_testds))\n",
    "plt.imshow(get[0][0].numpy().astype(\"uint8\"))"
   ]
  },
  {
   "cell_type": "markdown",
   "metadata": {},
   "source": [
    "#### Experiment 3.2 :- vertical/column periodic noise - sine wave"
   ]
  },
  {
   "cell_type": "code",
   "execution_count": 17,
   "metadata": {
    "execution": {
     "iopub.execute_input": "2021-04-26T19:33:03.148652Z",
     "iopub.status.busy": "2021-04-26T19:33:03.148652Z",
     "iopub.status.idle": "2021-04-26T19:33:12.550220Z",
     "shell.execute_reply": "2021-04-26T19:33:12.549263Z",
     "shell.execute_reply.started": "2021-04-26T19:33:03.148652Z"
    }
   },
   "outputs": [
    {
     "name": "stdout",
     "output_type": "stream",
     "text": [
      "Found 12630 files belonging to 43 classes.\n",
      "395/395 [==============================] - 8s 21ms/step - loss: 9.3244 - accuracy: 0.2102 1s - loss: 9.3 - ETA: 0s - loss: 9.3338 - accu\n"
     ]
    },
    {
     "data": {
      "text/plain": [
       "<matplotlib.image.AxesImage at 0x11512ebe248>"
      ]
     },
     "execution_count": 17,
     "metadata": {},
     "output_type": "execute_result"
    },
    {
     "data": {
      "image/png": "[encoded data removed]",
      "text/plain": [
       "<Figure size 432x288 with 1 Axes>"
      ]
     },
     "metadata": {
      "needs_background": "light"
     },
     "output_type": "display_data"
    }
   ],
   "source": [
    "periodVertdirectory = './noisydata/periodic_vert/'\n",
    "\n",
    "periodVerttestds = tf.keras.preprocessing.image_dataset_from_directory(\n",
    "    periodVertdirectory, labels='inferred', label_mode='int',\n",
    "    color_mode='rgb', batch_size=32, image_size=(40,\n",
    "    40), shuffle=True, seed=42,\n",
    ")\n",
    "test_loss, test_acc = snpmodel1.evaluate(periodVerttestds, verbose=1)\n",
    "\n",
    "get = next(iter(periodVerttestds))\n",
    "plt.imshow(get[0][1].numpy().astype(\"uint8\"))"
   ]
  },
  {
   "cell_type": "markdown",
   "metadata": {},
   "source": [
    "#### Experiment 3.3 :- Sine wave plus Cosine wave"
   ]
  },
  {
   "cell_type": "code",
   "execution_count": 19,
   "metadata": {
    "execution": {
     "iopub.execute_input": "2021-04-26T19:33:55.104548Z",
     "iopub.status.busy": "2021-04-26T19:33:55.104548Z",
     "iopub.status.idle": "2021-04-26T19:34:04.535521Z",
     "shell.execute_reply": "2021-04-26T19:34:04.535521Z",
     "shell.execute_reply.started": "2021-04-26T19:33:55.104548Z"
    }
   },
   "outputs": [
    {
     "name": "stdout",
     "output_type": "stream",
     "text": [
      "Found 12630 files belonging to 43 classes.\n",
      "395/395 [==============================] - 8s 20ms/step - loss: 5.6357 - accuracy: 0.3934\n"
     ]
    },
    {
     "data": {
      "text/plain": [
       "<matplotlib.image.AxesImage at 0x11513537508>"
      ]
     },
     "execution_count": 19,
     "metadata": {},
     "output_type": "execute_result"
    },
    {
     "data": {
      "image/png": "[encoded data removed]",
      "text/plain": [
       "<Figure size 432x288 with 1 Axes>"
      ]
     },
     "metadata": {
      "needs_background": "light"
     },
     "output_type": "display_data"
    }
   ],
   "source": [
    "periodMixdirectory = './noisydata/periodic_mix/'\n",
    "\n",
    "periodMixtestds = tf.keras.preprocessing.image_dataset_from_directory(\n",
    "    periodMixdirectory, labels='inferred', label_mode='int',\n",
    "    color_mode='rgb', batch_size=32, image_size=(40,\n",
    "    40), shuffle=True, seed=42,\n",
    ")\n",
    "test_loss, test_acc = snpmodel1.evaluate(periodMixtestds, verbose=1)\n",
    "\n",
    "get = next(iter(periodMixtestds))\n",
    "plt.imshow(get[0][0].numpy().astype(\"uint8\"))"
   ]
  },
  {
   "cell_type": "code",
   "execution_count": 22,
   "metadata": {
    "execution": {
     "iopub.execute_input": "2021-04-26T19:34:31.981975Z",
     "iopub.status.busy": "2021-04-26T19:34:31.981975Z",
     "iopub.status.idle": "2021-04-26T19:34:32.282130Z",
     "shell.execute_reply": "2021-04-26T19:34:32.281132Z",
     "shell.execute_reply.started": "2021-04-26T19:34:31.981975Z"
    }
   },
   "outputs": [
    {
     "data": {
      "text/plain": [
       "<matplotlib.image.AxesImage at 0x115178e6a08>"
      ]
     },
     "execution_count": 22,
     "metadata": {},
     "output_type": "execute_result"
    },
    {
     "data": {
      "image/png": "[encoded data removed]",
      "text/plain": [
       "<Figure size 432x288 with 1 Axes>"
      ]
     },
     "metadata": {
      "needs_background": "light"
     },
     "output_type": "display_data"
    }
   ],
   "source": [
    "get = next(iter(periodMixtestds))\n",
    "plt.imshow(get[0][0].numpy().astype(\"uint8\"))"
   ]
  },
  {
   "cell_type": "markdown",
   "metadata": {},
   "source": [
    "## Experiment 4: Effect of 25% less noise on Trained CNN Image Classifiers"
   ]
  },
  {
   "cell_type": "markdown",
   "metadata": {},
   "source": [
    "#### salt and pepper noise with a probability of 0.1%"
   ]
  },
  {
   "cell_type": "code",
   "execution_count": 28,
   "metadata": {
    "execution": {
     "iopub.execute_input": "2021-04-26T22:42:20.752039Z",
     "iopub.status.busy": "2021-04-26T22:42:20.751039Z",
     "iopub.status.idle": "2021-04-26T22:42:30.759041Z",
     "shell.execute_reply": "2021-04-26T22:42:30.758042Z",
     "shell.execute_reply.started": "2021-04-26T22:42:20.752039Z"
    }
   },
   "outputs": [
    {
     "name": "stdout",
     "output_type": "stream",
     "text": [
      "Found 12630 files belonging to 43 classes.\n",
      "395/395 [==============================] - 9s 22ms/step - loss: 1.3543 - accuracy: 0.8057 7s - loss: 1.1774 - accuracy:  - ETA: 4s - l - ETA: 3s - loss: 1.3342 - ac - ETA: 3s - loss: 1.3416 - accu - ETA: 2s - ETA: 0s - loss: 1.3579 - accuracy: \n"
     ]
    },
    {
     "data": {
      "text/plain": [
       "<matplotlib.image.AxesImage at 0x1150f8e1e08>"
      ]
     },
     "execution_count": 28,
     "metadata": {},
     "output_type": "execute_result"
    },
    {
     "data": {
      "image/png": "[encoded data removed]",
      "text/plain": [
       "<Figure size 432x288 with 1 Axes>"
      ]
     },
     "metadata": {
      "needs_background": "light"
     },
     "output_type": "display_data"
    }
   ],
   "source": [
    "period01directory = './noisydata/salt-n-pepper0.001/'\n",
    "\n",
    "period01testds = tf.keras.preprocessing.image_dataset_from_directory(\n",
    "    period01directory, labels='inferred', label_mode='int',\n",
    "    color_mode='rgb', batch_size=32, image_size=(40,\n",
    "    40), shuffle=True, seed=42,\n",
    ")\n",
    "test_loss, test_acc = snpmodel1.evaluate(period01testds, verbose=1)\n",
    "\n",
    "get = next(iter(period01testds))\n",
    "plt.imshow(get[0][0].numpy().astype(\"uint8\"))"
   ]
  },
  {
   "cell_type": "code",
   "execution_count": null,
   "metadata": {},
   "outputs": [],
   "source": []
  },
  {
   "cell_type": "markdown",
   "metadata": {},
   "source": [
    "#### Gaussian Noise with a kernel standard deviation of 5"
   ]
  },
  {
   "cell_type": "code",
   "execution_count": 29,
   "metadata": {
    "execution": {
     "iopub.execute_input": "2021-04-26T22:43:33.726697Z",
     "iopub.status.busy": "2021-04-26T22:43:33.725711Z",
     "iopub.status.idle": "2021-04-26T22:43:43.349119Z",
     "shell.execute_reply": "2021-04-26T22:43:43.348164Z",
     "shell.execute_reply.started": "2021-04-26T22:43:33.726697Z"
    }
   },
   "outputs": [
    {
     "name": "stdout",
     "output_type": "stream",
     "text": [
      "Found 12630 files belonging to 43 classes.\n",
      "395/395 [==============================] - 8s 21ms/step - loss: 40.9909 - accuracy: 0.0462: 7s - loss: 41.833 - ETA: 6s - loss: 41.0004 - accuracy: 0.0 - ETA: 5s - loss: 40.9084 - accuracy: 0 - ETA: 5s - loss - ETA: 3s - loss: 40.9278 - accuracy:  - ETA: 3s - loss: 40.9765 - accura - ETA: 2s - loss: 41.0208  - ETA: 1s - loss: 4\n"
     ]
    },
    {
     "data": {
      "text/plain": [
       "<matplotlib.image.AxesImage at 0x115592f1948>"
      ]
     },
     "execution_count": 29,
     "metadata": {},
     "output_type": "execute_result"
    },
    {
     "data": {
      "image/png": "[encoded data removed]",
      "text/plain": [
       "<Figure size 432x288 with 1 Axes>"
      ]
     },
     "metadata": {
      "needs_background": "light"
     },
     "output_type": "display_data"
    }
   ],
   "source": [
    "gauss5directory = './noisydata/gaussian5/'\n",
    "\n",
    "gauss5testds = tf.keras.preprocessing.image_dataset_from_directory(\n",
    "    gauss5directory, labels='inferred', label_mode='int',\n",
    "    color_mode='rgb', batch_size=32, image_size=(40,\n",
    "    40), shuffle=True, seed=42,\n",
    ")\n",
    "test_loss, test_acc = snpmodel1.evaluate(gauss5testds, verbose=1)\n",
    "\n",
    "get = next(iter(gauss5testds))\n",
    "plt.imshow(get[0][0].numpy().astype(\"uint8\"))"
   ]
  },
  {
   "cell_type": "markdown",
   "metadata": {},
   "source": [
    "#### periodic noise with a quarter magnitude "
   ]
  },
  {
   "cell_type": "code",
   "execution_count": 31,
   "metadata": {
    "execution": {
     "iopub.execute_input": "2021-04-26T22:45:27.729346Z",
     "iopub.status.busy": "2021-04-26T22:45:27.729346Z",
     "iopub.status.idle": "2021-04-26T22:45:37.740017Z",
     "shell.execute_reply": "2021-04-26T22:45:37.739095Z",
     "shell.execute_reply.started": "2021-04-26T22:45:27.729346Z"
    }
   },
   "outputs": [
    {
     "name": "stdout",
     "output_type": "stream",
     "text": [
      "Found 12630 files belonging to 43 classes.\n",
      "395/395 [==============================] - 9s 22ms/step - loss: 1.7565 - accuracy: 0.7444 1s - loss: 1.7665 - accuracy:  - ETA: 1s - loss: 1 - ETA: 0s - loss: 1.7651 - accuracy\n"
     ]
    },
    {
     "data": {
      "text/plain": [
       "<matplotlib.image.AxesImage at 0x11506948948>"
      ]
     },
     "execution_count": 31,
     "metadata": {},
     "output_type": "execute_result"
    },
    {
     "data": {
      "image/png": "[encoded data removed]",
      "text/plain": [
       "<Figure size 432x288 with 1 Axes>"
      ]
     },
     "metadata": {
      "needs_background": "light"
     },
     "output_type": "display_data"
    }
   ],
   "source": [
    "period25directory = './noisydata/periodic0.25/'\n",
    "\n",
    "period25testds = tf.keras.preprocessing.image_dataset_from_directory(\n",
    "    period25directory, labels='inferred', label_mode='int',\n",
    "    color_mode='rgb', batch_size=32, image_size=(40,\n",
    "    40), shuffle=True, seed=42,\n",
    ")\n",
    "test_loss, test_acc = snpmodel1.evaluate(period25testds, verbose=1)\n",
    "\n",
    "get = next(iter(period25testds))\n",
    "plt.imshow(get[0][0].numpy().astype(\"uint8\"))"
   ]
  },
  {
   "cell_type": "markdown",
   "metadata": {},
   "source": [
    "## Experiment 5: A closer look at Gaussian Noise"
   ]
  },
  {
   "cell_type": "markdown",
   "metadata": {},
   "source": [
    "##### Gaussian Noise in Training -> more robust network?"
   ]
  },
  {
   "cell_type": "code",
   "execution_count": 37,
   "metadata": {
    "execution": {
     "iopub.execute_input": "2021-04-26T23:15:34.708314Z",
     "iopub.status.busy": "2021-04-26T23:15:34.708314Z",
     "iopub.status.idle": "2021-04-26T23:15:34.795672Z",
     "shell.execute_reply": "2021-04-26T23:15:34.794672Z",
     "shell.execute_reply.started": "2021-04-26T23:15:34.708314Z"
    }
   },
   "outputs": [],
   "source": [
    "model2 = getGaussNoiseModel()\n",
    "model2.compile(optimizer='adam',\n",
    "              loss=tf.keras.losses.SparseCategoricalCrossentropy(from_logits=True),\n",
    "              metrics=['accuracy'])"
   ]
  },
  {
   "cell_type": "code",
   "execution_count": 38,
   "metadata": {
    "execution": {
     "iopub.execute_input": "2021-04-26T23:15:35.310080Z",
     "iopub.status.busy": "2021-04-26T23:15:35.310080Z",
     "iopub.status.idle": "2021-04-26T23:15:35.330080Z",
     "shell.execute_reply": "2021-04-26T23:15:35.329079Z",
     "shell.execute_reply.started": "2021-04-26T23:15:35.310080Z"
    }
   },
   "outputs": [
    {
     "name": "stdout",
     "output_type": "stream",
     "text": [
      "Model: \"sequential_2\"\n",
      "_________________________________________________________________\n",
      "Layer (type)                 Output Shape              Param #   \n",
      "=================================================================\n",
      "rescaling_2 (Rescaling)      (None, 40, 40, 3)         0         \n",
      "_________________________________________________________________\n",
      "gaussian_noise_1 (GaussianNo (None, 40, 40, 3)         0         \n",
      "_________________________________________________________________\n",
      "conv2d_6 (Conv2D)            (None, 40, 40, 16)        448       \n",
      "_________________________________________________________________\n",
      "max_pooling2d_6 (MaxPooling2 (None, 20, 20, 16)        0         \n",
      "_________________________________________________________________\n",
      "conv2d_7 (Conv2D)            (None, 20, 20, 32)        4640      \n",
      "_________________________________________________________________\n",
      "max_pooling2d_7 (MaxPooling2 (None, 10, 10, 32)        0         \n",
      "_________________________________________________________________\n",
      "conv2d_8 (Conv2D)            (None, 10, 10, 64)        18496     \n",
      "_________________________________________________________________\n",
      "max_pooling2d_8 (MaxPooling2 (None, 5, 5, 64)          0         \n",
      "_________________________________________________________________\n",
      "flatten_2 (Flatten)          (None, 1600)              0         \n",
      "_________________________________________________________________\n",
      "dense_4 (Dense)              (None, 128)               204928    \n",
      "_________________________________________________________________\n",
      "dense_5 (Dense)              (None, 43)                5547      \n",
      "=================================================================\n",
      "Total params: 234,059\n",
      "Trainable params: 234,059\n",
      "Non-trainable params: 0\n",
      "_________________________________________________________________\n"
     ]
    }
   ],
   "source": [
    "model2.summary()"
   ]
  },
  {
   "cell_type": "code",
   "execution_count": 39,
   "metadata": {
    "execution": {
     "iopub.execute_input": "2021-04-26T23:15:51.810650Z",
     "iopub.status.busy": "2021-04-26T23:15:51.810650Z",
     "iopub.status.idle": "2021-04-26T23:24:27.889264Z",
     "shell.execute_reply": "2021-04-26T23:24:27.889264Z",
     "shell.execute_reply.started": "2021-04-26T23:15:51.810650Z"
    }
   },
   "outputs": [
    {
     "name": "stdout",
     "output_type": "stream",
     "text": [
      "Epoch 1/10\n",
      "981/981 [==============================] - 261s 266ms/step - loss: 2.9974 - accuracy: 0.2001 - val_loss: 3.0584 - val_accuracy: 0.2194\n",
      "Epoch 2/10\n",
      "981/981 [==============================] - 27s 27ms/step - loss: 2.4073 - accuracy: 0.3275 - val_loss: 2.8697 - val_accuracy: 0.2806ss: 2.5508 - accuracy: - ETA: - ETA: 16s - loss: 2.5162 - accuracy - ETA: 16s - loss: 2.5082 - accuracy: 0.31 - ETA: 16s - loss: 2.5057 - accuracy:  - ETA: 15s - loss: 2.4985 - accuracy:  - ETA: 15s - loss: 2.4934 - accurac - ETA: 14s - loss: 2.4885 - accuracy: 0.3 - ETA: 14s - loss: 2.4829 - a - ETA: 13s - loss: 2.4718 - a - ETA: 12s - loss: 2.4652 - accur - ETA: 11s - loss:  - ETA: 10s - loss: 2.4552 - accuracy: 0 - ETA: 9s - loss: 2.4532 - accuracy: 0 - ETA: 6s - loss: - ETA: 6s - loss: 2.423 - ETA: 5s - loss: 2.4220 - accu - ETA: 3s - loss: 2.4185 - accuracy - ETA: 3s - ETA: 1s - l\n",
      "Epoch 3/10\n",
      "981/981 [==============================] - 27s 28ms/step - loss: 2.2378 - accuracy: 0.3618 - val_loss: 2.5543 - val_accuracy: 0.3580: 18s - loss: 2.2815 - accuracy: 0.354 - ETA: 18s - ETA: 16s -  - ETA: 15s - loss: 2.2809 - accurac - ETA: 14s - loss: - ETA: 12s - loss: 2.2669 - acc - ETA: 12s - loss: 2.2589 - accuracy: 0.35 - ETA: 12s - loss: 2.2589 - accuracy: 0.3 - ETA: 11s - loss: 2.2592 - accuracy: 0.35 - ETA: 11s - loss:  - ETA: 10s - ETA: 8s - loss: 2.2494 - \n",
      "Epoch 4/10\n",
      "981/981 [==============================] - 27s 27ms/step - loss: 2.1509 - accuracy: 0.3801 - val_loss: 2.5225 - val_accuracy: 0.357754 - accura - ETA: 18s - loss: 2.1696 - accuracy: 0. - ETA: 18s - loss: 2.1704 - accuracy: 0.37 - ETA: 17s - loss: 2.1690 - accuracy: - ETA: 17s -  - ETA: 15s - loss: 2.1724 - accuracy:  - ETA: 15s - loss: 2.1672 - accuracy: 0.3 - ETA: 14s - loss: 2.1644 - accur - ETA: 14s - loss: 2.162 - ETA: 13s - loss: 2.1588 - accuracy: 0. - ETA - ETA: 10s - loss: 2.1581 -  - ETA: 9s - los - ETA: 8s - loss: 2 - - ETA:  - ETA: 5s - loss: 2.1522 - accura - ETA: 5s - loss: 2.1523  - ETA: 4s - loss: 2.1505 -  - ETA: 4s - loss: 2.151 - ETA: 2s - - ETA: 1s\n",
      "Epoch 5/10\n",
      "981/981 [==============================] - 28s 28ms/step - loss: 2.1046 - accuracy: 0.3885 - val_loss: 2.4116 - val_accuracy: 0.3941\n",
      "Epoch 6/10\n",
      "981/981 [==============================] - 28s 29ms/step - loss: 2.0631 - accuracy: 0.4018 - val_loss: 2.4399 - val_accuracy: 0.3933racy:  - ETA: 2s - loss: 2.0621 -  - ETA: 0s - loss: 2.063\n",
      "Epoch 7/10\n",
      "981/981 [==============================] - 27s 28ms/step - loss: 2.0353 - accuracy: 0.4084 - val_loss: 2.3117 - val_accuracy: 0.41790.40\n",
      "Epoch 8/10\n",
      "981/981 [==============================] - 29s 29ms/step - loss: 2.0106 - accuracy: 0.4151 - val_loss: 2.3427 - val_accuracy: 0.4102\n",
      "Epoch 9/10\n",
      "981/981 [==============================] - 29s 29ms/step - loss: 1.9829 - accuracy: 0.4213 - val_loss: 2.2357 - val_accuracy: 0.4420\n",
      "Epoch 10/10\n",
      "981/981 [==============================] - 28s 29ms/step - loss: 1.9565 - accuracy: 0.4312 - val_loss: 2.3085 - val_accuracy: 0.43299545 - accurac - E - ETA: 7s - los - ETA: 5s - loss: 1.951 - ETA: 4s - loss: 1 - ETA: 3s - l - ETA: 2s\n"
     ]
    }
   ],
   "source": [
    "epochs=10\n",
    "history2 = model2.fit(\n",
    "  train_ds,\n",
    "  validation_data=val_ds,\n",
    "  epochs=epochs,\n",
    "    verbose=1\n",
    ")"
   ]
  },
  {
   "cell_type": "code",
   "execution_count": 40,
   "metadata": {
    "execution": {
     "iopub.execute_input": "2021-04-26T23:24:27.891263Z",
     "iopub.status.busy": "2021-04-26T23:24:27.891263Z",
     "iopub.status.idle": "2021-04-26T23:24:28.097407Z",
     "shell.execute_reply": "2021-04-26T23:24:28.097407Z",
     "shell.execute_reply.started": "2021-04-26T23:24:27.891263Z"
    }
   },
   "outputs": [
    {
     "data": {
      "image/png": "[encoded data removed]",
      "text/plain": [
       "<Figure size 720x360 with 2 Axes>"
      ]
     },
     "metadata": {
      "needs_background": "light"
     },
     "output_type": "display_data"
    }
   ],
   "source": [
    "acc = history2.history['accuracy']\n",
    "val_acc = history2.history['val_accuracy']\n",
    "\n",
    "loss = history2.history['loss']\n",
    "val_loss = history2.history['val_loss']\n",
    "\n",
    "epochs_range = range(epochs)\n",
    "\n",
    "plt.figure(figsize=(10, 5))\n",
    "plt.subplot(1, 2, 1)\n",
    "plt.plot(epochs_range, acc, label='Training Accuracy')\n",
    "plt.plot(epochs_range, val_acc, label='Validation Accuracy')\n",
    "plt.legend(loc='lower right')\n",
    "plt.title('Training and Validation Accuracy')\n",
    "\n",
    "plt.subplot(1, 2, 2)\n",
    "plt.plot(epochs_range, loss, label='Training Loss')\n",
    "plt.plot(epochs_range, val_loss, label='Validation Loss')\n",
    "plt.legend(loc='upper right')\n",
    "plt.title('Training and Validation Loss')\n",
    "plt.show()"
   ]
  },
  {
   "cell_type": "code",
   "execution_count": 42,
   "metadata": {
    "execution": {
     "iopub.execute_input": "2021-04-26T23:47:45.358230Z",
     "iopub.status.busy": "2021-04-26T23:47:45.358230Z",
     "iopub.status.idle": "2021-04-26T23:48:38.670866Z",
     "shell.execute_reply": "2021-04-26T23:48:38.669824Z",
     "shell.execute_reply.started": "2021-04-26T23:47:45.358230Z"
    }
   },
   "outputs": [
    {
     "name": "stdout",
     "output_type": "stream",
     "text": [
      "395/395 [==============================] - 51s 130ms/step - loss: 2.4481 - accuracy: 0.3811\n"
     ]
    }
   ],
   "source": [
    "test_loss, test_acc = model2.evaluate(test_ds, verbose=1)"
   ]
  },
  {
   "cell_type": "code",
   "execution_count": 47,
   "metadata": {
    "execution": {
     "iopub.execute_input": "2021-04-27T00:05:32.140360Z",
     "iopub.status.busy": "2021-04-27T00:05:32.139347Z",
     "iopub.status.idle": "2021-04-27T00:05:57.224129Z",
     "shell.execute_reply": "2021-04-27T00:05:57.222084Z",
     "shell.execute_reply.started": "2021-04-27T00:05:32.140360Z"
    }
   },
   "outputs": [
    {
     "name": "stdout",
     "output_type": "stream",
     "text": [
      "395/395 [==============================] - 24s 62ms/step - loss: 2.4187 - accuracy: 0.3984\n"
     ]
    }
   ],
   "source": [
    "test_loss, test_acc = model2.evaluate(salt_testds, verbose=1)"
   ]
  },
  {
   "cell_type": "code",
   "execution_count": 48,
   "metadata": {
    "execution": {
     "iopub.execute_input": "2021-04-27T00:05:57.228565Z",
     "iopub.status.busy": "2021-04-27T00:05:57.228565Z",
     "iopub.status.idle": "2021-04-27T00:06:22.592777Z",
     "shell.execute_reply": "2021-04-27T00:06:22.590976Z",
     "shell.execute_reply.started": "2021-04-27T00:05:57.228565Z"
    }
   },
   "outputs": [
    {
     "name": "stdout",
     "output_type": "stream",
     "text": [
      "395/395 [==============================] - 25s 62ms/step - loss: 4.0335 - accuracy: 0.0515\n"
     ]
    }
   ],
   "source": [
    "test_loss, test_acc = model2.evaluate(gaussian_testds, verbose=1)"
   ]
  },
  {
   "cell_type": "code",
   "execution_count": 49,
   "metadata": {
    "execution": {
     "iopub.execute_input": "2021-04-27T00:06:22.597687Z",
     "iopub.status.busy": "2021-04-27T00:06:22.597687Z",
     "iopub.status.idle": "2021-04-27T00:06:47.930375Z",
     "shell.execute_reply": "2021-04-27T00:06:47.928375Z",
     "shell.execute_reply.started": "2021-04-27T00:06:22.597687Z"
    }
   },
   "outputs": [
    {
     "name": "stdout",
     "output_type": "stream",
     "text": [
      "395/395 [==============================] - 25s 62ms/step - loss: 4.2912 - accuracy: 0.08141s\n"
     ]
    }
   ],
   "source": [
    "test_loss, test_acc = model2.evaluate(period_testds, verbose=1)"
   ]
  },
  {
   "cell_type": "markdown",
   "metadata": {},
   "source": [
    "##### Gaussian Variation on the Dataset and it's effect on Image Recognition"
   ]
  },
  {
   "cell_type": "code",
   "execution_count": 43,
   "metadata": {
    "execution": {
     "iopub.execute_input": "2021-04-26T23:49:31.007694Z",
     "iopub.status.busy": "2021-04-26T23:49:31.006693Z",
     "iopub.status.idle": "2021-04-26T23:49:31.027853Z",
     "shell.execute_reply": "2021-04-26T23:49:31.026853Z",
     "shell.execute_reply.started": "2021-04-26T23:49:31.007694Z"
    }
   },
   "outputs": [],
   "source": [
    "# loop for Gaussian on the images and then test each time?"
   ]
  },
  {
   "cell_type": "markdown",
   "metadata": {},
   "source": [
    "## Experiment 6: Grey-Scale Testing on color trained"
   ]
  },
  {
   "cell_type": "code",
   "execution_count": 33,
   "metadata": {
    "execution": {
     "iopub.execute_input": "2021-04-26T22:54:39.769440Z",
     "iopub.status.busy": "2021-04-26T22:54:39.769440Z",
     "iopub.status.idle": "2021-04-26T22:55:04.526954Z",
     "shell.execute_reply": "2021-04-26T22:55:04.526954Z",
     "shell.execute_reply.started": "2021-04-26T22:54:39.769440Z"
    }
   },
   "outputs": [
    {
     "name": "stdout",
     "output_type": "stream",
     "text": [
      "Found 12630 files belonging to 43 classes.\n",
      "395/395 [==============================] - 20s 52ms/step - loss: 1.9839 - accuracy: 0.7241: 28s - - ETA: 10s - loss: 1.9173 - acc - ETA: 9s - los - ETA: 7s - loss: 1.9803 - accuracy - E - ETA: 0s - loss: 1.9823 - accuracy\n"
     ]
    },
    {
     "data": {
      "text/plain": [
       "<matplotlib.image.AxesImage at 0x115b11f2ac8>"
      ]
     },
     "execution_count": 33,
     "metadata": {},
     "output_type": "execute_result"
    },
    {
     "data": {
      "image/png": "[encoded data removed]",
      "text/plain": [
       "<Figure size 432x288 with 1 Axes>"
      ]
     },
     "metadata": {
      "needs_background": "light"
     },
     "output_type": "display_data"
    }
   ],
   "source": [
    "graydir = './graydata/test/'\n",
    "\n",
    "graytest_ds = tf.keras.preprocessing.image_dataset_from_directory(\n",
    "    graydir, labels='inferred', label_mode='int',\n",
    "    color_mode='rgb', batch_size=32, image_size=(40,\n",
    "    40), shuffle=True, seed=42,\n",
    ")\n",
    "test_loss, test_acc = snpmodel1.evaluate(graytest_ds, verbose=1)\n",
    "\n",
    "get = next(iter(graytest_ds))\n",
    "plt.imshow(get[0][0].numpy().astype(\"uint8\"))"
   ]
  },
  {
   "cell_type": "markdown",
   "metadata": {},
   "source": [
    "## Experiment 6 (Behaviour Subsection): Gray-Scale Trained model /"
   ]
  },
  {
   "cell_type": "markdown",
   "metadata": {},
   "source": [
    "#### Confusion Matrix"
   ]
  },
  {
   "cell_type": "code",
   "execution_count": null,
   "metadata": {},
   "outputs": [],
   "source": [
    "from sklearn.metrics import classification_report, confusion_matrix\n",
    "#Confution Matrix and Classification Report\n",
    "Y_pred = model.predict_generator(valid_generator, valid_generator.samples //valid_generator.batch_size+1)\n",
    "y_pred = np.argmax(Y_pred, axis=1)\n",
    "print('Confusion Matrix')\n",
    "print(confusion_matrix(valid_generator.classes, y_pred))\n",
    "print('Classification Report')\n",
    "target_names = class_names\n",
    "print(classification_report(valid_generator.classes, y_pred, target_names=target_names))"
   ]
  }
 ],
 "metadata": {
  "kernelspec": {
   "display_name": "Python 3",
   "language": "python",
   "name": "python3"
  },
  "language_info": {
   "codemirror_mode": {
    "name": "ipython",
    "version": 3
   },
   "file_extension": ".py",
   "mimetype": "text/x-python",
   "name": "python",
   "nbconvert_exporter": "python",
   "pygments_lexer": "ipython3",
   "version": "3.7.6"
  }
 },
 "nbformat": 4,
 "nbformat_minor": 4
}
