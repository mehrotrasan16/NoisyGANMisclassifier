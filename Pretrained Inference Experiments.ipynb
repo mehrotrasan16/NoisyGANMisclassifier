{
 "cells": [
  {
   "cell_type": "markdown",
   "metadata": {},
   "source": [
    "# Imports"
   ]
  },
  {
   "cell_type": "code",
   "execution_count": 1,
   "metadata": {
    "execution": {
     "iopub.execute_input": "2021-04-26T19:52:23.802212Z",
     "iopub.status.busy": "2021-04-26T19:52:23.802212Z",
     "iopub.status.idle": "2021-04-26T19:52:26.833208Z",
     "shell.execute_reply": "2021-04-26T19:52:26.833208Z",
     "shell.execute_reply.started": "2021-04-26T19:52:23.802212Z"
    }
   },
   "outputs": [],
   "source": [
    "import tempfile\n",
    "import os\n",
    "import glob\n",
    "from tqdm import tqdm\n",
    "\n",
    "import tensorflow as tf\n",
    "import numpy as np\n",
    "\n",
    "import pandas as pd\n",
    "import matplotlib.pyplot as plt\n",
    "\n",
    "from tensorflow import keras\n",
    "from tensorflow.keras import layers, models\n",
    "\n",
    "import matplotlib.image as mpimg\n",
    "import matplotlib.pyplot as plt"
   ]
  },
  {
   "cell_type": "markdown",
   "metadata": {},
   "source": [
    "# GPU Setup"
   ]
  },
  {
   "cell_type": "code",
   "execution_count": 2,
   "metadata": {
    "execution": {
     "iopub.execute_input": "2021-04-26T19:52:30.656252Z",
     "iopub.status.busy": "2021-04-26T19:52:30.656252Z",
     "iopub.status.idle": "2021-04-26T19:52:31.486639Z",
     "shell.execute_reply": "2021-04-26T19:52:31.486639Z",
     "shell.execute_reply.started": "2021-04-26T19:52:30.656252Z"
    }
   },
   "outputs": [
    {
     "name": "stdout",
     "output_type": "stream",
     "text": [
      "1 Physical GPUs, 1 Logical GPUs\n"
     ]
    }
   ],
   "source": [
    "gpus = tf.config.experimental.list_physical_devices('GPU')\n",
    "if gpus:\n",
    "    try:\n",
    "        # Currently, memory growth needs to be the same across GPUs\n",
    "        for gpu in gpus:\n",
    "            tf.config.experimental.set_memory_growth(gpu, True)\n",
    "        logical_gpus = tf.config.experimental.list_logical_devices('GPU')\n",
    "        print(len(gpus), \"Physical GPUs,\", len(logical_gpus), \"Logical GPUs\")\n",
    "    except RuntimeError as e:\n",
    "        # Memory growth must be set before GPUs have been initialized\n",
    "        print(e)"
   ]
  },
  {
   "cell_type": "markdown",
   "metadata": {},
   "source": [
    "# Loading the Finetuned Network"
   ]
  },
  {
   "cell_type": "code",
   "execution_count": 4,
   "metadata": {
    "execution": {
     "iopub.execute_input": "2021-04-26T19:57:12.344019Z",
     "iopub.status.busy": "2021-04-26T19:57:12.344019Z",
     "iopub.status.idle": "2021-04-26T19:57:36.099610Z",
     "shell.execute_reply": "2021-04-26T19:57:36.099610Z",
     "shell.execute_reply.started": "2021-04-26T19:57:12.344019Z"
    }
   },
   "outputs": [
    {
     "name": "stdout",
     "output_type": "stream",
     "text": [
      "Model: \"sequential_1\"\n",
      "_________________________________________________________________\n",
      "Layer (type)                 Output Shape              Param #   \n",
      "=================================================================\n",
      "inception_v3 (Functional)    (None, 1, 1, 2048)        21802784  \n",
      "_________________________________________________________________\n",
      "global_average_pooling2d (Gl (None, 2048)              0         \n",
      "_________________________________________________________________\n",
      "dense (Dense)                (None, 43)                88107     \n",
      "=================================================================\n",
      "Total params: 21,890,891\n",
      "Trainable params: 21,856,459\n",
      "Non-trainable params: 34,432\n",
      "_________________________________________________________________\n"
     ]
    }
   ],
   "source": [
    "new_model = tf.keras.models.load_model('pretrained-model/inceptionv3-finetuned/')\n",
    "# Check its architecture\n",
    "new_model.summary()"
   ]
  },
  {
   "cell_type": "code",
   "execution_count": 7,
   "metadata": {
    "execution": {
     "iopub.execute_input": "2021-04-26T23:29:35.401135Z",
     "iopub.status.busy": "2021-04-26T23:29:35.401135Z",
     "iopub.status.idle": "2021-04-26T23:31:03.792641Z",
     "shell.execute_reply": "2021-04-26T23:31:03.792641Z",
     "shell.execute_reply.started": "2021-04-26T23:29:35.401135Z"
    }
   },
   "outputs": [
    {
     "name": "stdout",
     "output_type": "stream",
     "text": [
      "Found 12630 files belonging to 43 classes.\n",
      "395/395 [==============================] - 78s 197ms/step - loss: 22.7564 - accuracy: 0.1592\n"
     ]
    },
    {
     "data": {
      "text/plain": [
       "<matplotlib.image.AxesImage at 0x23d94237a08>"
      ]
     },
     "execution_count": 7,
     "metadata": {},
     "output_type": "execute_result"
    },
    {
     "data": {
      "image/png": "[encoded data removed]",
      "text/plain": [
       "<Figure size 432x288 with 1 Axes>"
      ]
     },
     "metadata": {
      "needs_background": "light"
     },
     "output_type": "display_data"
    }
   ],
   "source": [
    "sevendir = './pretrained-model-data/testfolders75/'\n",
    "\n",
    "seventest_ds = tf.keras.preprocessing.image_dataset_from_directory(\n",
    "    sevendir, labels='inferred', label_mode='int',\n",
    "    color_mode='rgb', batch_size=32, image_size=(75,\n",
    "    75), shuffle=True, seed=42,\n",
    ")\n",
    "test_loss, test_acc = new_model.evaluate(seventest_ds, verbose=1)\n",
    "\n",
    "get = next(iter(seventest_ds))\n",
    "plt.imshow(get[0][0].numpy().astype(\"uint8\"))"
   ]
  },
  {
   "cell_type": "markdown",
   "metadata": {},
   "source": [
    "## Reading Images from filesystem"
   ]
  },
  {
   "cell_type": "code",
   "execution_count": 60,
   "metadata": {
    "execution": {
     "iopub.execute_input": "2021-04-27T01:21:01.836219Z",
     "iopub.status.busy": "2021-04-27T01:21:01.834215Z",
     "iopub.status.idle": "2021-04-27T01:21:01.861218Z",
     "shell.execute_reply": "2021-04-27T01:21:01.857261Z",
     "shell.execute_reply.started": "2021-04-27T01:21:01.836219Z"
    }
   },
   "outputs": [],
   "source": [
    "def readTrainTestImages(trainpath,testpath):\n",
    "    from tqdm import tqdm\n",
    "    import matplotlib.image as mpimg\n",
    "    trainImages = []\n",
    "    testImages = []\n",
    "    trainimgfiles = glob.glob(trainpath + '**//*.png')\n",
    "    testimgfiles = glob.glob(testpath + '**//*.png')\n",
    "    trainimgfiles = sorted(trainimgfiles, key=lambda x: int(x.split(\"\\\\\")[2].split(\".\")[0]))\n",
    "    testimgfiles = sorted(testimgfiles, key=lambda x: int(x.split(\"\\\\\")[2].split(\".\")[0]))\n",
    "    print(testimgfiles[:5])\n",
    "    for i in tqdm(range(len(trainimgfiles))):\n",
    "        # Read Images\n",
    "#         print(trainimgfiles[i])\n",
    "        img = mpimg.imread(trainimgfiles[i])   \n",
    "        trainImages.append(img)        \n",
    "    print('read ' + str(i) + \" training images\")   \n",
    "    \n",
    "    for i in tqdm(range(len(testimgfiles))):\n",
    "        # Read Images\n",
    "#         print(testimgfiles[i])\n",
    "        img = mpimg.imread(testimgfiles[i])   \n",
    "        testImages.append(img)        \n",
    "    print(f'read {i} test images')\n",
    "            \n",
    "    \n",
    "    trainImages = np.array(trainImages, dtype='float32')\n",
    "    testImages = np.array(testImages, dtype='float32')\n",
    "    \n",
    "    trainlabels = pd.read_csv(trainpath + '/trainlabels.csv',index_col=False)\n",
    "    testlabels = pd.read_csv(testpath + '/testlabels.csv',index_col=False)\n",
    "    trainlabels.drop(trainlabels.columns[0], axis=1, inplace=True)\n",
    "    testlabels.drop(testlabels.columns[0], axis=1, inplace=True)\n",
    "    \n",
    "    return trainImages, trainlabels, testImages, testlabels\n",
    "#     return trainimgfiles, testimgfiles\n",
    "    "
   ]
  },
  {
   "cell_type": "code",
   "execution_count": 67,
   "metadata": {
    "execution": {
     "iopub.execute_input": "2021-04-27T01:42:49.141761Z",
     "iopub.status.busy": "2021-04-27T01:42:49.141761Z",
     "iopub.status.idle": "2021-04-27T01:57:58.223913Z",
     "shell.execute_reply": "2021-04-27T01:57:58.219919Z",
     "shell.execute_reply.started": "2021-04-27T01:42:49.141761Z"
    }
   },
   "outputs": [
    {
     "name": "stderr",
     "output_type": "stream",
     "text": [
      "  0%|                                                            | 10/39209 [00:00<06:36, 98.86it/s]"
     ]
    },
    {
     "name": "stdout",
     "output_type": "stream",
     "text": [
      "['./pretrained-model-data/testfolders75\\\\16\\\\0.png', './pretrained-model-data/testfolders75\\\\1\\\\1.png', './pretrained-model-data/testfolders75\\\\38\\\\2.png', './pretrained-model-data/testfolders75\\\\33\\\\3.png', './pretrained-model-data/testfolders75\\\\11\\\\4.png']\n"
     ]
    },
    {
     "name": "stderr",
     "output_type": "stream",
     "text": [
      "100%|████████████████████████████████████████████████████████| 39209/39209 [06:24<00:00, 101.94it/s]\n",
      "  0%|                                                             | 1/12630 [00:00<24:49,  8.48it/s]"
     ]
    },
    {
     "name": "stdout",
     "output_type": "stream",
     "text": [
      "read 39208 training images\n"
     ]
    },
    {
     "name": "stderr",
     "output_type": "stream",
     "text": [
      "100%|█████████████████████████████████████████████████████████| 12630/12630 [08:15<00:00, 25.51it/s]\n"
     ]
    },
    {
     "name": "stdout",
     "output_type": "stream",
     "text": [
      "read 12629 test images\n"
     ]
    }
   ],
   "source": [
    "trainpath = './pretrained-model-data/trainfolders75/'\n",
    "testpath = './pretrained-model-data/testfolders75/'\n",
    "trainData, trainLabels, testData, testLabels = readTrainTestImages(trainpath,testpath)"
   ]
  },
  {
   "cell_type": "code",
   "execution_count": 61,
   "metadata": {
    "execution": {
     "iopub.execute_input": "2021-04-27T01:21:05.406525Z",
     "iopub.status.busy": "2021-04-27T01:21:05.406525Z",
     "iopub.status.idle": "2021-04-27T01:23:44.599541Z",
     "shell.execute_reply": "2021-04-27T01:23:44.595259Z",
     "shell.execute_reply.started": "2021-04-27T01:21:05.406525Z"
    }
   },
   "outputs": [
    {
     "name": "stderr",
     "output_type": "stream",
     "text": [
      "  0%|▏                                                         | 135/39209 [00:00<00:57, 676.58it/s]"
     ]
    },
    {
     "name": "stdout",
     "output_type": "stream",
     "text": [
      "['./pretrained-model-data/testfolders75\\\\16\\\\0.png', './pretrained-model-data/testfolders75\\\\1\\\\1.png', './pretrained-model-data/testfolders75\\\\38\\\\2.png', './pretrained-model-data/testfolders75\\\\33\\\\3.png', './pretrained-model-data/testfolders75\\\\11\\\\4.png']\n"
     ]
    },
    {
     "name": "stderr",
     "output_type": "stream",
     "text": [
      "100%|████████████████████████████████████████████████████████| 39209/39209 [01:45<00:00, 373.37it/s]\n",
      "  0%|▏                                                          | 32/12630 [00:00<00:42, 293.59it/s]"
     ]
    },
    {
     "name": "stdout",
     "output_type": "stream",
     "text": [
      "read 39208 training images\n"
     ]
    },
    {
     "name": "stderr",
     "output_type": "stream",
     "text": [
      "100%|████████████████████████████████████████████████████████| 12630/12630 [00:41<00:00, 306.09it/s]\n"
     ]
    },
    {
     "name": "stdout",
     "output_type": "stream",
     "text": [
      "read 12629 test images\n"
     ]
    }
   ],
   "source": [
    "# trainpath = './pretrained-model-data/trainfolders75/'\n",
    "# testpath = './pretrained-model-data/testfolders75/'\n",
    "# trainData1, trainLabels1, testData1, testLabels1 = readTrainTestImages(trainpath,testpath)"
   ]
  },
  {
   "cell_type": "code",
   "execution_count": 21,
   "metadata": {
    "execution": {
     "iopub.execute_input": "2021-04-27T00:29:56.340503Z",
     "iopub.status.busy": "2021-04-27T00:29:56.340503Z",
     "iopub.status.idle": "2021-04-27T00:29:56.388878Z",
     "shell.execute_reply": "2021-04-27T00:29:56.387870Z",
     "shell.execute_reply.started": "2021-04-27T00:29:56.340503Z"
    }
   },
   "outputs": [
    {
     "data": {
      "text/plain": [
       "{'0': 'Speed limit (20km/h)',\n",
       " '1': 'Speed limit (30km/h)',\n",
       " '2': 'Speed limit (50km/h)',\n",
       " '3': 'Speed limit (60km/h)',\n",
       " '4': 'Speed limit (70km/h)',\n",
       " '5': 'Speed limit (80km/h)',\n",
       " '6': 'End of speed limit (80km/h)',\n",
       " '7': 'Speed limit (100km/h)',\n",
       " '8': 'Speed limit (120km/h)',\n",
       " '9': 'No passing',\n",
       " '10': 'No passing for vehicles over 3.5 metric tons',\n",
       " '11': 'Right-of-way at the next intersection',\n",
       " '12': 'Priority road',\n",
       " '13': 'Yield',\n",
       " '14': 'Stop',\n",
       " '15': 'No vechiles',\n",
       " '16': 'Vehicles over 3.5 metric tons prohibited',\n",
       " '17': 'No entry',\n",
       " '18': 'General caution',\n",
       " '19': 'Dangerous curve to the left',\n",
       " '20': 'Dangerous curve to the right',\n",
       " '21': 'Double curve',\n",
       " '22': 'Bumpy road',\n",
       " '23': 'Slippery road',\n",
       " '24': 'Road narrows on the right',\n",
       " '25': 'Road work',\n",
       " '26': 'Traffic signals',\n",
       " '27': 'Pedestrians',\n",
       " '28': 'Children crossing',\n",
       " '29': 'Bicycles crossing',\n",
       " '30': 'Beware of ice/snow',\n",
       " '31': 'Wild animals crossing',\n",
       " '32': 'End of all speed and passing limits',\n",
       " '33': 'Turn right ahead',\n",
       " '34': 'Turn left ahead',\n",
       " '35': 'Ahead only',\n",
       " '36': 'Go straight or right',\n",
       " '37': 'Go straight or left',\n",
       " '38': 'Keep right',\n",
       " '39': 'Keep left',\n",
       " '40': 'Roundabout mandatory',\n",
       " '41': 'End of no passing',\n",
       " '42': 'End of no passing by vehicles over 3.5 metric tons'}"
      ]
     },
     "execution_count": 21,
     "metadata": {},
     "output_type": "execute_result"
    }
   ],
   "source": [
    "# Download class names\n",
    "# wget \"https://raw.githubusercontent.com/georgesung/traffic_sign_classification_german/master/signnames.csv\" -outfile \"signnames.csv\"\n",
    "classes = pd.read_csv('signnames.csv')\n",
    "class_names = {}\n",
    "for i, row in classes.iterrows():\n",
    "    class_names[str(row[0])] = row[1]\n",
    "    \n",
    "class_names"
   ]
  },
  {
   "cell_type": "code",
   "execution_count": 68,
   "metadata": {
    "execution": {
     "iopub.execute_input": "2021-04-27T02:08:31.980082Z",
     "iopub.status.busy": "2021-04-27T02:08:31.980082Z",
     "iopub.status.idle": "2021-04-27T02:08:32.788017Z",
     "shell.execute_reply": "2021-04-27T02:08:32.783107Z",
     "shell.execute_reply.started": "2021-04-27T02:08:31.980082Z"
    }
   },
   "outputs": [
    {
     "data": {
      "image/png": "[encoded data removed]",
      "text/plain": [
       "<Figure size 720x720 with 12 Axes>"
      ]
     },
     "metadata": {},
     "output_type": "display_data"
    }
   ],
   "source": [
    "plot = 1\n",
    "\n",
    "plt.figure(figsize=(10,10))\n",
    "for i in range(0,12000,1000):\n",
    "    plt.subplot(8,5,plot)\n",
    "    plt.tight_layout()\n",
    "    plt.xticks([])\n",
    "    plt.yticks([])\n",
    "    plt.grid(False)\n",
    "    plt.imshow(testData[i], cmap=plt.cm.binary)\n",
    "    # The CIFAR labels happen to be arrays, \n",
    "    # which is why you need the extra index\n",
    "    plt.xlabel(class_names[str(testLabels.iloc[i]['Class'])])\n",
    "    plot += 1\n",
    "plt.show()"
   ]
  },
  {
   "cell_type": "code",
   "execution_count": 73,
   "metadata": {
    "execution": {
     "iopub.execute_input": "2021-04-27T02:09:23.474336Z",
     "iopub.status.busy": "2021-04-27T02:09:23.473318Z",
     "iopub.status.idle": "2021-04-27T02:09:30.380553Z",
     "shell.execute_reply": "2021-04-27T02:09:30.376793Z",
     "shell.execute_reply.started": "2021-04-27T02:09:23.474336Z"
    }
   },
   "outputs": [
    {
     "name": "stdout",
     "output_type": "stream",
     "text": [
      "395/395 - 7s - loss: 4.0977 - accuracy: 0.0239\n"
     ]
    }
   ],
   "source": [
    "test_loss, test_acc = new_model.evaluate(testData,testLabels, verbose=1)"
   ]
  },
  {
   "cell_type": "code",
   "execution_count": 70,
   "metadata": {
    "execution": {
     "iopub.execute_input": "2021-04-27T02:09:04.116113Z",
     "iopub.status.busy": "2021-04-27T02:09:04.116113Z",
     "iopub.status.idle": "2021-04-27T02:09:04.240584Z",
     "shell.execute_reply": "2021-04-27T02:09:04.236899Z",
     "shell.execute_reply.started": "2021-04-27T02:09:04.116113Z"
    }
   },
   "outputs": [
    {
     "data": {
      "text/plain": [
       "35"
      ]
     },
     "execution_count": 70,
     "metadata": {},
     "output_type": "execute_result"
    }
   ],
   "source": [
    "np.argmax(new_model.predict(testData[0].reshape(-1,75,75,3)))"
   ]
  },
  {
   "cell_type": "code",
   "execution_count": 96,
   "metadata": {
    "execution": {
     "iopub.execute_input": "2021-04-27T06:28:32.353908Z",
     "iopub.status.busy": "2021-04-27T06:28:32.352907Z",
     "iopub.status.idle": "2021-04-27T06:28:32.978906Z",
     "shell.execute_reply": "2021-04-27T06:28:32.977905Z",
     "shell.execute_reply.started": "2021-04-27T06:28:32.353908Z"
    }
   },
   "outputs": [
    {
     "data": {
      "text/plain": [
       "<matplotlib.image.AxesImage at 0x24082dbeb88>"
      ]
     },
     "execution_count": 96,
     "metadata": {},
     "output_type": "execute_result"
    },
    {
     "data": {
      "image/png": "[encoded data removed]",
      "text/plain": [
       "<Figure size 432x288 with 1 Axes>"
      ]
     },
     "metadata": {
      "needs_background": "light"
     },
     "output_type": "display_data"
    }
   ],
   "source": [
    "plt.imshow(testData[0])"
   ]
  },
  {
   "cell_type": "code",
   "execution_count": 99,
   "metadata": {
    "execution": {
     "iopub.execute_input": "2021-04-27T06:49:52.829341Z",
     "iopub.status.busy": "2021-04-27T06:49:52.828340Z",
     "iopub.status.idle": "2021-04-27T06:49:52.845342Z",
     "shell.execute_reply": "2021-04-27T06:49:52.844339Z",
     "shell.execute_reply.started": "2021-04-27T06:49:52.829341Z"
    }
   },
   "outputs": [
    {
     "data": {
      "text/plain": [
       "((75, 75, 3), dtype('float32'), numpy.ndarray)"
      ]
     },
     "execution_count": 99,
     "metadata": {},
     "output_type": "execute_result"
    }
   ],
   "source": [
    "testData[0].shape, testData[0].dtype, type(testData)"
   ]
  },
  {
   "cell_type": "code",
   "execution_count": 101,
   "metadata": {
    "execution": {
     "iopub.execute_input": "2021-04-27T06:50:49.463998Z",
     "iopub.status.busy": "2021-04-27T06:50:49.462996Z",
     "iopub.status.idle": "2021-04-27T06:50:49.810995Z",
     "shell.execute_reply": "2021-04-27T06:50:49.809994Z",
     "shell.execute_reply.started": "2021-04-27T06:50:49.463998Z"
    }
   },
   "outputs": [
    {
     "data": {
      "text/plain": [
       "<matplotlib.image.AxesImage at 0x24083100788>"
      ]
     },
     "execution_count": 101,
     "metadata": {},
     "output_type": "execute_result"
    },
    {
     "data": {
      "image/png": "[encoded data removed]",
      "text/plain": [
       "<Figure size 432x288 with 1 Axes>"
      ]
     },
     "metadata": {
      "needs_background": "light"
     },
     "output_type": "display_data"
    }
   ],
   "source": [
    "plt.imshow(get_periodic_noise(testData[0].astype('uint8')))"
   ]
  },
  {
   "cell_type": "markdown",
   "metadata": {},
   "source": [
    "### Adding Gaussian Noise"
   ]
  },
  {
   "cell_type": "code",
   "execution_count": 14,
   "metadata": {
    "execution": {
     "iopub.execute_input": "2021-04-26T23:42:15.174156Z",
     "iopub.status.busy": "2021-04-26T23:42:15.174156Z",
     "iopub.status.idle": "2021-04-26T23:42:15.208357Z",
     "shell.execute_reply": "2021-04-26T23:42:15.207410Z",
     "shell.execute_reply.started": "2021-04-26T23:42:15.174156Z"
    }
   },
   "outputs": [
    {
     "data": {
      "text/plain": [
       "[<tf.Tensor: shape=(), dtype=float32, numpy=1.1>,\n",
       " <tf.Tensor: shape=(), dtype=int32, numpy=2>,\n",
       " <tf.Tensor: shape=(), dtype=int32, numpy=3>,\n",
       " <tf.Tensor: shape=(), dtype=int32, numpy=4>,\n",
       " <tf.Tensor: shape=(), dtype=int32, numpy=5>]"
      ]
     },
     "execution_count": 14,
     "metadata": {},
     "output_type": "execute_result"
    }
   ],
   "source": [
    "import tensorflow as tf\n",
    "from tensorflow.keras import layers, models\n",
    "testLayer = layers.GaussianNoise(5, input_shape=(-1,40,40,-1),dtype=tf.float32) #50\n",
    "testLayer()"
   ]
  },
  {
   "cell_type": "markdown",
   "metadata": {},
   "source": [
    "### Adding Salt and Pepper Noise!"
   ]
  },
  {
   "cell_type": "code",
   "execution_count": 9,
   "metadata": {
    "execution": {
     "iopub.execute_input": "2021-04-26T23:40:13.884557Z",
     "iopub.status.busy": "2021-04-26T23:40:13.884557Z",
     "iopub.status.idle": "2021-04-26T23:40:13.904775Z",
     "shell.execute_reply": "2021-04-26T23:40:13.903778Z",
     "shell.execute_reply.started": "2021-04-26T23:40:13.884557Z"
    }
   },
   "outputs": [],
   "source": [
    "def add_salt_pepper_noise(X_imgs):\n",
    "    # Need to produce a copy as to not modify the original image\n",
    "    X_imgs_copy = X_imgs.copy()\n",
    "#     print(len(X_imgs_copy))\n",
    "    row, col, ch = X_imgs_copy.shape\n",
    "#     print('=====> ', row, col, ch)\n",
    "    salt_vs_pepper = 0.5\n",
    "    amount = 0.004\n",
    "    num_salt = np.ceil(amount * X_imgs_copy.size * salt_vs_pepper)\n",
    "    num_pepper = np.ceil(amount * X_imgs_copy.size * (1.0 - salt_vs_pepper))\n",
    "    \n",
    "    for X_img in X_imgs_copy:\n",
    "        # Add Salt noise\n",
    "        coords = [np.random.randint(0, i - 1, int(num_salt)) for i in X_img.shape]\n",
    "#         print(\"coords\", coords)\n",
    "        X_img[coords[0], coords[1]] = 1\n",
    "\n",
    " \n",
    "\n",
    "        # Add Pepper noise\n",
    "        coords = [np.random.randint(0, i - 1, int(num_pepper)) for i in X_img.shape]\n",
    "        X_img[coords[0], coords[1]] = 0\n",
    "    return X_imgs_copy\n",
    "  \n",
    " "
   ]
  },
  {
   "cell_type": "markdown",
   "metadata": {},
   "source": [
    "### Adding Periodic noise"
   ]
  },
  {
   "cell_type": "code",
   "execution_count": 10,
   "metadata": {
    "execution": {
     "iopub.execute_input": "2021-04-26T23:40:14.951406Z",
     "iopub.status.busy": "2021-04-26T23:40:14.949925Z",
     "iopub.status.idle": "2021-04-26T23:40:14.973952Z",
     "shell.execute_reply": "2021-04-26T23:40:14.972944Z",
     "shell.execute_reply.started": "2021-04-26T23:40:14.951406Z"
    }
   },
   "outputs": [],
   "source": [
    "import math\n",
    "\n",
    "def get_periodic_noise( X_imgs ):\n",
    "    \n",
    "    X_imgs_copy = X_imgs.copy()\n",
    "    row, col, ch = X_imgs_copy.shape\n",
    "    degree = 0.5\n",
    "    for i in range(row):\n",
    "        for j in range(col):\n",
    "            X_imgs_copy[i, j] = X_imgs[i,j]+ 0.25*(degree * (math.sin(degree*j))) #+ degree * math.cos(degree*j)); #only sine term, sine term into 0.5, sine plus cos term on 0.5\n",
    "    X_imgs_copy=np.clip(X_imgs_copy, 0, 1)\n",
    "    return X_imgs_copy"
   ]
  },
  {
   "cell_type": "markdown",
   "metadata": {},
   "source": [
    "### Greyscaling transforms for GANs"
   ]
  },
  {
   "cell_type": "code",
   "execution_count": 11,
   "metadata": {
    "execution": {
     "iopub.execute_input": "2021-04-26T23:41:10.971667Z",
     "iopub.status.busy": "2021-04-26T23:41:10.970671Z",
     "iopub.status.idle": "2021-04-26T23:41:10.988287Z",
     "shell.execute_reply": "2021-04-26T23:41:10.987248Z",
     "shell.execute_reply.started": "2021-04-26T23:41:10.971667Z"
    }
   },
   "outputs": [],
   "source": [
    "def get_grey_img(img):\n",
    "    R, G, B = img[:,:,0], img[:,:,1], img[:,:,2]\n",
    "    imgGray = 0.2989 * R + 0.5870 * G + 0.1140 * B\n",
    "    return imgGray"
   ]
  },
  {
   "cell_type": "markdown",
   "metadata": {},
   "source": [
    "## Experiment 1: Inception V3"
   ]
  },
  {
   "cell_type": "code",
   "execution_count": 91,
   "metadata": {
    "execution": {
     "iopub.execute_input": "2021-04-27T03:47:19.470868Z",
     "iopub.status.busy": "2021-04-27T03:47:19.470868Z",
     "iopub.status.idle": "2021-04-27T03:47:49.026698Z",
     "shell.execute_reply": "2021-04-27T03:47:49.026698Z",
     "shell.execute_reply.started": "2021-04-27T03:47:19.470868Z"
    }
   },
   "outputs": [
    {
     "name": "stdout",
     "output_type": "stream",
     "text": [
      "Model: \"sequential_1\"\n",
      "_________________________________________________________________\n",
      "Layer (type)                 Output Shape              Param #   \n",
      "=================================================================\n",
      "inception_v3 (Functional)    (None, 1, 1, 2048)        21802784  \n",
      "_________________________________________________________________\n",
      "global_average_pooling2d (Gl (None, 2048)              0         \n",
      "_________________________________________________________________\n",
      "dense (Dense)                (None, 43)                88107     \n",
      "=================================================================\n",
      "Total params: 21,890,891\n",
      "Trainable params: 21,856,459\n",
      "Non-trainable params: 34,432\n",
      "_________________________________________________________________\n"
     ]
    }
   ],
   "source": [
    "incept100 = tf.keras.models.load_model('pretrained-model/inceptionv3-after100epochs/')\n",
    "# Check its architecture\n",
    "incept100.summary()"
   ]
  },
  {
   "cell_type": "code",
   "execution_count": 90,
   "metadata": {
    "execution": {
     "iopub.execute_input": "2021-04-27T03:47:10.802530Z",
     "iopub.status.busy": "2021-04-27T03:47:10.802530Z",
     "iopub.status.idle": "2021-04-27T03:47:11.873870Z",
     "shell.execute_reply": "2021-04-27T03:47:11.872860Z",
     "shell.execute_reply.started": "2021-04-27T03:47:10.802530Z"
    }
   },
   "outputs": [
    {
     "name": "stdout",
     "output_type": "stream",
     "text": [
      "Found 12630 files belonging to 43 classes.\n"
     ]
    }
   ],
   "source": [
    "testdir = './testfolders/'\n",
    "test_ds = tf.keras.preprocessing.image_dataset_from_directory(\n",
    "    testdir, labels='inferred', label_mode='int',\n",
    "    color_mode='rgb', batch_size=32, image_size=(75,\n",
    "    75), shuffle=True, seed=42,\n",
    ")"
   ]
  },
  {
   "cell_type": "code",
   "execution_count": null,
   "metadata": {},
   "outputs": [],
   "source": []
  },
  {
   "cell_type": "code",
   "execution_count": 92,
   "metadata": {
    "execution": {
     "iopub.execute_input": "2021-04-27T03:47:49.026698Z",
     "iopub.status.busy": "2021-04-27T03:47:49.026698Z",
     "iopub.status.idle": "2021-04-27T03:48:33.481898Z",
     "shell.execute_reply": "2021-04-27T03:48:33.480543Z",
     "shell.execute_reply.started": "2021-04-27T03:47:49.026698Z"
    }
   },
   "outputs": [
    {
     "name": "stdout",
     "output_type": "stream",
     "text": [
      "395/395 [==============================] - 42s 105ms/step - loss: 0.0844 - accuracy: 0.9797- ETA: 4s\n"
     ]
    }
   ],
   "source": [
    "test_loss, test_acc = incept100.evaluate(test_ds, verbose=1)"
   ]
  },
  {
   "cell_type": "code",
   "execution_count": 95,
   "metadata": {
    "execution": {
     "iopub.execute_input": "2021-04-27T03:48:59.130133Z",
     "iopub.status.busy": "2021-04-27T03:48:59.130133Z",
     "iopub.status.idle": "2021-04-27T03:48:59.194534Z",
     "shell.execute_reply": "2021-04-27T03:48:59.192532Z",
     "shell.execute_reply.started": "2021-04-27T03:48:59.130133Z"
    }
   },
   "outputs": [
    {
     "data": {
      "text/plain": [
       "42"
      ]
     },
     "execution_count": 95,
     "metadata": {},
     "output_type": "execute_result"
    }
   ],
   "source": [
    "np.argmax(incept100.predict(testData[0].reshape(-1,75,75,3)))"
   ]
  },
  {
   "cell_type": "code",
   "execution_count": 94,
   "metadata": {
    "execution": {
     "iopub.execute_input": "2021-04-27T03:48:39.321465Z",
     "iopub.status.busy": "2021-04-27T03:48:39.320420Z",
     "iopub.status.idle": "2021-04-27T03:48:43.614449Z",
     "shell.execute_reply": "2021-04-27T03:48:43.613447Z",
     "shell.execute_reply.started": "2021-04-27T03:48:39.321465Z"
    }
   },
   "outputs": [
    {
     "name": "stdout",
     "output_type": "stream",
     "text": [
      "42 16\n",
      "42 1\n",
      "42 38\n",
      "42 33\n",
      "42 11\n",
      "42 38\n",
      "42 18\n",
      "42 12\n",
      "42 25\n",
      "42 35\n",
      "42 12\n",
      "42 7\n",
      "42 23\n",
      "42 7\n",
      "42 4\n",
      "42 9\n",
      "42 21\n",
      "42 20\n",
      "42 27\n",
      "42 38\n",
      "42 4\n",
      "42 33\n",
      "42 9\n",
      "42 3\n",
      "42 1\n",
      "42 11\n",
      "42 13\n",
      "42 10\n",
      "42 9\n",
      "42 11\n",
      "42 5\n",
      "42 17\n",
      "42 34\n",
      "42 23\n",
      "42 2\n",
      "42 17\n",
      "42 3\n",
      "42 12\n",
      "42 16\n",
      "42 8\n",
      "42 7\n",
      "42 30\n",
      "42 18\n",
      "42 12\n",
      "42 24\n",
      "42 25\n",
      "42 3\n",
      "42 10\n",
      "42 18\n",
      "42 8\n",
      "42 25\n",
      "42 13\n",
      "42 15\n",
      "42 9\n",
      "42 13\n",
      "42 35\n",
      "42 5\n",
      "42 26\n",
      "42 9\n",
      "42 16\n",
      "42 38\n",
      "42 10\n",
      "42 4\n",
      "42 9\n",
      "42 15\n",
      "42 9\n",
      "42 26\n",
      "42 2\n",
      "42 5\n",
      "42 28\n",
      "42 11\n",
      "42 25\n",
      "42 30\n",
      "42 34\n",
      "42 5\n",
      "42 12\n",
      "42 1\n",
      "42 10\n",
      "42 25\n",
      "42 25\n",
      "42 21\n",
      "42 33\n",
      "42 25\n",
      "42 7\n",
      "42 10\n",
      "42 35\n",
      "42 3\n",
      "42 7\n",
      "42 22\n",
      "42 13\n",
      "42 3\n",
      "42 1\n",
      "42 2\n",
      "42 14\n",
      "42 12\n",
      "42 32\n",
      "42 3\n",
      "42 38\n",
      "42 9\n",
      "42 33\n"
     ]
    }
   ],
   "source": [
    "pred = []\n",
    "real = []\n",
    "for i in range(100):\n",
    "    pred = np.argmax(incept100.predict(testData[i].reshape(-1,75,75,3)))\n",
    "    real = testLabels.iloc[i]['Class']\n",
    "    print(pred, real)\n",
    "    "
   ]
  },
  {
   "cell_type": "markdown",
   "metadata": {},
   "source": [
    "## Experiment 2: ResNet50"
   ]
  },
  {
   "cell_type": "code",
   "execution_count": 86,
   "metadata": {
    "execution": {
     "iopub.execute_input": "2021-04-27T02:16:11.224801Z",
     "iopub.status.busy": "2021-04-27T02:16:11.224801Z",
     "iopub.status.idle": "2021-04-27T02:16:29.968123Z",
     "shell.execute_reply": "2021-04-27T02:16:29.967122Z",
     "shell.execute_reply.started": "2021-04-27T02:16:11.224801Z"
    }
   },
   "outputs": [
    {
     "name": "stdout",
     "output_type": "stream",
     "text": [
      "Model: \"sequential_1\"\n",
      "_________________________________________________________________\n",
      "Layer (type)                 Output Shape              Param #   \n",
      "=================================================================\n",
      "resnet50 (Functional)        (None, 2, 2, 2048)        23587712  \n",
      "_________________________________________________________________\n",
      "global_average_pooling2d (Gl (None, 2048)              0         \n",
      "_________________________________________________________________\n",
      "dense_1 (Dense)              (None, 43)                88107     \n",
      "=================================================================\n",
      "Total params: 23,675,819\n",
      "Trainable params: 23,622,699\n",
      "Non-trainable params: 53,120\n",
      "_________________________________________________________________\n"
     ]
    }
   ],
   "source": [
    "resnet = tf.keras.models.load_model('pretrained-model/resnet-afterfinetune/')\n",
    "# Check its architecture\n",
    "resnet.summary()"
   ]
  },
  {
   "cell_type": "code",
   "execution_count": 87,
   "metadata": {
    "execution": {
     "iopub.execute_input": "2021-04-27T02:16:34.119027Z",
     "iopub.status.busy": "2021-04-27T02:16:34.119027Z",
     "iopub.status.idle": "2021-04-27T02:16:42.989952Z",
     "shell.execute_reply": "2021-04-27T02:16:42.988995Z",
     "shell.execute_reply.started": "2021-04-27T02:16:34.119027Z"
    }
   },
   "outputs": [
    {
     "name": "stdout",
     "output_type": "stream",
     "text": [
      "WARNING:tensorflow:Model was constructed with shape (None, 50, 50, 3) for input Tensor(\"resnet50_input:0\", shape=(None, 50, 50, 3), dtype=float32), but it was called on an input with incompatible shape (None, 75, 75, 3).\n",
      "WARNING:tensorflow:Model was constructed with shape (None, 50, 50, 3) for input Tensor(\"input_1_2:0\", shape=(None, 50, 50, 3), dtype=float32), but it was called on an input with incompatible shape (None, 75, 75, 3).\n",
      "395/395 [==============================] - 8s 20ms/step - loss: 14.7068 - accuracy: 0.0356: 5s - loss: 14.5902 - accuracy: 0. - ETA: 5s - loss: 14.6526 - accu - ETA: 4s - loss: 14.7676 - accurac - ETA: 4s - loss: 14.7119 - accuracy: 0.0 - ETA: 4s - loss: 14.7373 - accuracy: 0.0 - ETA: 3s - loss: 14.7146 -  - ETA: 2s - loss: 14.7308 - accuracy: 0. - ETA: 2s - loss: 14 - ETA: 1s - loss: 14.6810 - accuracy: 0 - ETA: 0s - loss: 14.7037 -  - ETA: 0s - loss: 14.7027 - accuracy: 0.03\n"
     ]
    }
   ],
   "source": [
    "test_loss, test_acc = resnet.evaluate(testData,testLabels, verbose=1)"
   ]
  },
  {
   "cell_type": "code",
   "execution_count": 88,
   "metadata": {
    "execution": {
     "iopub.execute_input": "2021-04-27T02:16:49.251373Z",
     "iopub.status.busy": "2021-04-27T02:16:49.250376Z",
     "iopub.status.idle": "2021-04-27T02:16:50.200934Z",
     "shell.execute_reply": "2021-04-27T02:16:50.199978Z",
     "shell.execute_reply.started": "2021-04-27T02:16:49.251373Z"
    }
   },
   "outputs": [
    {
     "name": "stdout",
     "output_type": "stream",
     "text": [
      "WARNING:tensorflow:Model was constructed with shape (None, 50, 50, 3) for input Tensor(\"resnet50_input:0\", shape=(None, 50, 50, 3), dtype=float32), but it was called on an input with incompatible shape (None, 75, 75, 3).\n",
      "WARNING:tensorflow:Model was constructed with shape (None, 50, 50, 3) for input Tensor(\"input_1_2:0\", shape=(None, 50, 50, 3), dtype=float32), but it was called on an input with incompatible shape (None, 75, 75, 3).\n"
     ]
    },
    {
     "data": {
      "text/plain": [
       "7"
      ]
     },
     "execution_count": 88,
     "metadata": {},
     "output_type": "execute_result"
    }
   ],
   "source": [
    "np.argmax(resnet.predict(testData[0].reshape(-1,75,75,3)))"
   ]
  },
  {
   "cell_type": "code",
   "execution_count": 89,
   "metadata": {
    "execution": {
     "iopub.execute_input": "2021-04-27T02:16:52.295886Z",
     "iopub.status.busy": "2021-04-27T02:16:52.294936Z",
     "iopub.status.idle": "2021-04-27T02:16:55.964329Z",
     "shell.execute_reply": "2021-04-27T02:16:55.964329Z",
     "shell.execute_reply.started": "2021-04-27T02:16:52.295886Z"
    }
   },
   "outputs": [
    {
     "name": "stdout",
     "output_type": "stream",
     "text": [
      "7 16\n",
      "7 1\n",
      "7 38\n",
      "7 33\n",
      "7 11\n",
      "7 38\n",
      "7 18\n",
      "7 12\n",
      "7 25\n",
      "7 35\n",
      "7 12\n",
      "7 7\n",
      "7 23\n",
      "7 7\n",
      "7 4\n",
      "7 9\n",
      "7 21\n",
      "7 20\n",
      "7 27\n",
      "7 38\n",
      "7 4\n",
      "7 33\n",
      "7 9\n",
      "7 3\n",
      "7 1\n",
      "7 11\n",
      "7 13\n",
      "7 10\n",
      "7 9\n",
      "7 11\n",
      "7 5\n",
      "7 17\n",
      "7 34\n",
      "7 23\n",
      "7 2\n",
      "7 17\n",
      "7 3\n",
      "7 12\n",
      "7 16\n",
      "7 8\n",
      "7 7\n",
      "7 30\n",
      "7 18\n",
      "7 12\n",
      "7 24\n",
      "7 25\n",
      "7 3\n",
      "7 10\n",
      "7 18\n",
      "7 8\n",
      "7 25\n",
      "7 13\n",
      "7 15\n",
      "7 9\n",
      "7 13\n",
      "7 35\n",
      "7 5\n",
      "7 26\n",
      "7 9\n",
      "7 16\n",
      "7 38\n",
      "7 10\n",
      "7 4\n",
      "7 9\n",
      "7 15\n",
      "7 9\n",
      "7 26\n",
      "7 2\n",
      "7 5\n",
      "7 28\n",
      "7 11\n",
      "7 25\n",
      "7 30\n",
      "7 34\n",
      "7 5\n",
      "7 12\n",
      "7 1\n",
      "7 10\n",
      "7 25\n",
      "7 25\n",
      "7 21\n",
      "7 33\n",
      "7 25\n",
      "7 7\n",
      "7 10\n",
      "7 35\n",
      "7 3\n",
      "7 7\n",
      "7 22\n",
      "7 13\n",
      "7 3\n",
      "7 1\n",
      "7 2\n",
      "7 14\n",
      "7 12\n",
      "7 32\n",
      "7 3\n",
      "7 38\n",
      "7 9\n",
      "7 33\n"
     ]
    }
   ],
   "source": [
    "pred = []\n",
    "real = []\n",
    "for i in range(100):\n",
    "    pred = np.argmax(resnet.predict(testData[i].reshape(-1,75,75,3)))\n",
    "    real = testLabels.iloc[i]['Class']\n",
    "    print(pred, real)\n",
    "    "
   ]
  },
  {
   "cell_type": "code",
   "execution_count": null,
   "metadata": {},
   "outputs": [],
   "source": []
  }
 ],
 "metadata": {
  "kernelspec": {
   "display_name": "Python 3",
   "language": "python",
   "name": "python3"
  },
  "language_info": {
   "codemirror_mode": {
    "name": "ipython",
    "version": 3
   },
   "file_extension": ".py",
   "mimetype": "text/x-python",
   "name": "python",
   "nbconvert_exporter": "python",
   "pygments_lexer": "ipython3",
   "version": "3.7.6"
  }
 },
 "nbformat": 4,
 "nbformat_minor": 4
}
