{
 "cells": [
  {
   "cell_type": "code",
   "execution_count": null,
   "metadata": {
    "id": "qaCcmhfNf7h5"
   },
   "outputs": [],
   "source": []
  },
  {
   "cell_type": "code",
   "execution_count": 1,
   "metadata": {
    "execution": {
     "iopub.execute_input": "2021-04-24T21:24:14.267051Z",
     "iopub.status.busy": "2021-04-24T21:24:14.266051Z",
     "iopub.status.idle": "2021-04-24T21:24:16.414841Z",
     "shell.execute_reply": "2021-04-24T21:24:16.414841Z",
     "shell.execute_reply.started": "2021-04-24T21:24:14.267051Z"
    },
    "id": "ZQITAI4-f7iA"
   },
   "outputs": [],
   "source": [
    "import tensorflow as tf\n",
    "from tensorflow.keras import datasets, layers, models\n",
    "import time"
   ]
  },
  {
   "cell_type": "code",
   "execution_count": 4,
   "metadata": {
    "execution": {
     "iopub.execute_input": "2021-04-24T21:25:08.302903Z",
     "iopub.status.busy": "2021-04-24T21:25:08.302903Z",
     "iopub.status.idle": "2021-04-24T21:25:08.310880Z",
     "shell.execute_reply": "2021-04-24T21:25:08.309903Z",
     "shell.execute_reply.started": "2021-04-24T21:25:08.302903Z"
    },
    "id": "eqkmk_nIf7iC"
   },
   "outputs": [],
   "source": [
    "# The German Traffic Sign Recognition Benchmark\n",
    "#\n",
    "# sample code for reading the traffic sign images and the\n",
    "# corresponding labels\n",
    "#\n",
    "# example:\n",
    "#            \n",
    "# trainImages, trainLabels = readTrafficSigns('GTSRB/Training')\n",
    "# print len(trainLabels), len(trainImages)\n",
    "# plt.imshow(trainImages[42])\n",
    "# plt.show()\n",
    "#\n",
    "\n",
    "import matplotlib.pyplot as plt\n",
    "import pandas as pd\n",
    "import numpy as np\n",
    "import csv\n",
    "import glob\n",
    "import os\n"
   ]
  },
  {
   "cell_type": "code",
   "execution_count": null,
   "metadata": {
    "id": "EbStqm8ef7iD"
   },
   "outputs": [],
   "source": []
  },
  {
   "cell_type": "code",
   "execution_count": 5,
   "metadata": {
    "execution": {
     "iopub.execute_input": "2021-04-24T21:25:09.137386Z",
     "iopub.status.busy": "2021-04-24T21:25:09.137386Z",
     "iopub.status.idle": "2021-04-24T21:25:09.362078Z",
     "shell.execute_reply": "2021-04-24T21:25:09.361078Z",
     "shell.execute_reply.started": "2021-04-24T21:25:09.137386Z"
    },
    "id": "NpjoPNe0f7iD",
    "outputId": "43b8ad6d-9635-4190-9805-9061264fd09c"
   },
   "outputs": [
    {
     "name": "stdout",
     "output_type": "stream",
     "text": [
      "(60000, 28, 28) (60000,)\n",
      "(10000, 28, 28) (10000,)\n"
     ]
    }
   ],
   "source": [
    "(train_images, train_labels), (test_images,test_labels) = tf.keras.datasets.mnist.load_data() \n",
    "# (train_images, train_labels), (test_images,test_labels) = (train_images[:5000], train_labels[:5000]), (test_images[:1000],test_labels[:1000])\n",
    "\n",
    "print(train_images.shape, train_labels.shape)\n",
    "print(test_images.shape, test_labels.shape)"
   ]
  },
  {
   "cell_type": "code",
   "execution_count": 6,
   "metadata": {
    "execution": {
     "iopub.execute_input": "2021-04-24T21:25:10.140340Z",
     "iopub.status.busy": "2021-04-24T21:25:10.140340Z",
     "iopub.status.idle": "2021-04-24T21:25:10.263796Z",
     "shell.execute_reply": "2021-04-24T21:25:10.263796Z",
     "shell.execute_reply.started": "2021-04-24T21:25:10.140340Z"
    },
    "id": "anxt9W2Sf7iG",
    "outputId": "8f825425-91b8-418a-f8b9-69323be7c255",
    "scrolled": true
   },
   "outputs": [
    {
     "data": {
      "image/png": "[encoded data removed]",
      "text/plain": [
       "<Figure size 432x288 with 1 Axes>"
      ]
     },
     "metadata": {
      "needs_background": "light"
     },
     "output_type": "display_data"
    }
   ],
   "source": [
    "plt.imshow(train_images[0]);\n"
   ]
  },
  {
   "cell_type": "code",
   "execution_count": 7,
   "metadata": {
    "execution": {
     "iopub.execute_input": "2021-04-24T21:25:10.604458Z",
     "iopub.status.busy": "2021-04-24T21:25:10.604458Z",
     "iopub.status.idle": "2021-04-24T21:25:10.624421Z",
     "shell.execute_reply": "2021-04-24T21:25:10.623490Z",
     "shell.execute_reply.started": "2021-04-24T21:25:10.604458Z"
    },
    "id": "_08mtS3xf7iI",
    "outputId": "e0840002-3c56-4bb5-f3a8-8cd26a15384d"
   },
   "outputs": [
    {
     "data": {
      "text/plain": [
       "60000"
      ]
     },
     "execution_count": 7,
     "metadata": {},
     "output_type": "execute_result"
    }
   ],
   "source": [
    "train_images.shape[0]"
   ]
  },
  {
   "cell_type": "code",
   "execution_count": 8,
   "metadata": {
    "execution": {
     "iopub.execute_input": "2021-04-24T21:25:10.991931Z",
     "iopub.status.busy": "2021-04-24T21:25:10.991931Z",
     "iopub.status.idle": "2021-04-24T21:25:10.997830Z",
     "shell.execute_reply": "2021-04-24T21:25:10.996915Z",
     "shell.execute_reply.started": "2021-04-24T21:25:10.991931Z"
    },
    "id": "vBYbEqZuf7iI"
   },
   "outputs": [],
   "source": [
    "train_images = train_images.reshape(train_images.shape[0], 28, 28, -1)"
   ]
  },
  {
   "cell_type": "code",
   "execution_count": null,
   "metadata": {
    "id": "_RxFEVekf7iJ"
   },
   "outputs": [],
   "source": []
  },
  {
   "cell_type": "code",
   "execution_count": 9,
   "metadata": {
    "execution": {
     "iopub.execute_input": "2021-04-24T21:25:11.678636Z",
     "iopub.status.busy": "2021-04-24T21:25:11.678636Z",
     "iopub.status.idle": "2021-04-24T21:25:11.882938Z",
     "shell.execute_reply": "2021-04-24T21:25:11.881975Z",
     "shell.execute_reply.started": "2021-04-24T21:25:11.678636Z"
    },
    "id": "HvjhmpqLf7iJ"
   },
   "outputs": [],
   "source": [
    "train_images = (train_images - 127.5)/127.5"
   ]
  },
  {
   "cell_type": "code",
   "execution_count": 10,
   "metadata": {
    "execution": {
     "iopub.execute_input": "2021-04-24T21:25:11.883897Z",
     "iopub.status.busy": "2021-04-24T21:25:11.882938Z",
     "iopub.status.idle": "2021-04-24T21:25:11.898992Z",
     "shell.execute_reply": "2021-04-24T21:25:11.897982Z",
     "shell.execute_reply.started": "2021-04-24T21:25:11.883897Z"
    },
    "id": "xQDNaDvFf7iJ"
   },
   "outputs": [],
   "source": [
    "BUFFER_SIZE = train_images.shape[0]\n",
    "BATCH_SIZE= 100\n",
    "train_dataset = tf.data.Dataset.from_tensor_slices(train_images) \\\n",
    "                .shuffle(BUFFER_SIZE).batch(BATCH_SIZE)\n"
   ]
  },
  {
   "cell_type": "code",
   "execution_count": null,
   "metadata": {
    "id": "b_ZGOIcef7iK"
   },
   "outputs": [],
   "source": []
  },
  {
   "cell_type": "code",
   "execution_count": 11,
   "metadata": {
    "execution": {
     "iopub.execute_input": "2021-04-24T21:25:14.731905Z",
     "iopub.status.busy": "2021-04-24T21:25:14.731905Z",
     "iopub.status.idle": "2021-04-24T21:25:14.744904Z",
     "shell.execute_reply": "2021-04-24T21:25:14.744904Z",
     "shell.execute_reply.started": "2021-04-24T21:25:14.731905Z"
    }
   },
   "outputs": [
    {
     "name": "stdout",
     "output_type": "stream",
     "text": [
      "1 Physical GPUs, 1 Logical GPUs\n"
     ]
    }
   ],
   "source": [
    "gpus = tf.config.experimental.list_physical_devices('GPU')\n",
    "if gpus:\n",
    "    try:\n",
    "        # Currently, memory growth needs to be the same across GPUs\n",
    "        for gpu in gpus:\n",
    "            tf.config.experimental.set_memory_growth(gpu, True)\n",
    "        logical_gpus = tf.config.experimental.list_logical_devices('GPU')\n",
    "        print(len(gpus), \"Physical GPUs,\", len(logical_gpus), \"Logical GPUs\")\n",
    "    except RuntimeError as e:\n",
    "        # Memory growth must be set before GPUs have been initialized\n",
    "        print(e)"
   ]
  },
  {
   "cell_type": "markdown",
   "metadata": {
    "id": "fvLEPGq9f7iK"
   },
   "source": [
    "### DISCRIMINATOR MODEL"
   ]
  },
  {
   "cell_type": "code",
   "execution_count": 12,
   "metadata": {
    "execution": {
     "iopub.execute_input": "2021-04-24T21:25:16.087893Z",
     "iopub.status.busy": "2021-04-24T21:25:16.087893Z",
     "iopub.status.idle": "2021-04-24T21:25:16.097892Z",
     "shell.execute_reply": "2021-04-24T21:25:16.096941Z",
     "shell.execute_reply.started": "2021-04-24T21:25:16.087893Z"
    },
    "id": "n0Wlfzvyf7iK"
   },
   "outputs": [],
   "source": [
    "def make_descriminator_model():\n",
    "    \n",
    "    model = tf.keras.Sequential()\n",
    "    model.add(tf.keras.layers.Conv2D(7,(3,3), padding='same', input_shape=(28,28,1)))\n",
    "    model.add(tf.keras.layers.Flatten())\n",
    "    model.add(tf.keras.layers.LeakyReLU())\n",
    "    model.add(tf.keras.layers.Dense(50, activation=\"relu\"))\n",
    "    model.add(tf.keras.layers.Dense(1))\n",
    "    \n",
    "    return model"
   ]
  },
  {
   "cell_type": "code",
   "execution_count": 13,
   "metadata": {
    "execution": {
     "iopub.execute_input": "2021-04-24T21:25:16.900059Z",
     "iopub.status.busy": "2021-04-24T21:25:16.900059Z",
     "iopub.status.idle": "2021-04-24T21:25:16.957163Z",
     "shell.execute_reply": "2021-04-24T21:25:16.956179Z",
     "shell.execute_reply.started": "2021-04-24T21:25:16.900059Z"
    },
    "id": "ubs87NkCf7iK"
   },
   "outputs": [],
   "source": [
    "model_discriminator = make_descriminator_model()"
   ]
  },
  {
   "cell_type": "code",
   "execution_count": 14,
   "metadata": {
    "execution": {
     "iopub.execute_input": "2021-04-24T21:25:17.179807Z",
     "iopub.status.busy": "2021-04-24T21:25:17.179807Z",
     "iopub.status.idle": "2021-04-24T21:25:19.655561Z",
     "shell.execute_reply": "2021-04-24T21:25:19.654595Z",
     "shell.execute_reply.started": "2021-04-24T21:25:17.179807Z"
    },
    "id": "H3kXXoaVf7iL",
    "outputId": "7163fae7-e9f6-4cd0-db61-058871662ee3"
   },
   "outputs": [
    {
     "data": {
      "text/plain": [
       "<tf.Tensor: shape=(1, 1), dtype=float32, numpy=array([[-0.08475036]], dtype=float32)>"
      ]
     },
     "execution_count": 14,
     "metadata": {},
     "output_type": "execute_result"
    }
   ],
   "source": [
    "model_discriminator(np.random.rand(1,28,28,1).astype('float32'))"
   ]
  },
  {
   "cell_type": "code",
   "execution_count": 16,
   "metadata": {
    "execution": {
     "iopub.execute_input": "2021-04-24T21:28:10.807840Z",
     "iopub.status.busy": "2021-04-24T21:28:10.807556Z",
     "iopub.status.idle": "2021-04-24T21:28:10.818709Z",
     "shell.execute_reply": "2021-04-24T21:28:10.817355Z",
     "shell.execute_reply.started": "2021-04-24T21:28:10.807840Z"
    },
    "id": "g9ABeQaif7iL"
   },
   "outputs": [],
   "source": [
    "disriminator_optimizer = tf.optimizers.Adam(1e-3)"
   ]
  },
  {
   "cell_type": "code",
   "execution_count": null,
   "metadata": {
    "id": "OuiviTVnf7iL"
   },
   "outputs": [],
   "source": []
  },
  {
   "cell_type": "code",
   "execution_count": 15,
   "metadata": {
    "execution": {
     "iopub.execute_input": "2021-04-24T21:25:23.050128Z",
     "iopub.status.busy": "2021-04-24T21:25:23.050128Z",
     "iopub.status.idle": "2021-04-24T21:25:23.063006Z",
     "shell.execute_reply": "2021-04-24T21:25:23.062006Z",
     "shell.execute_reply.started": "2021-04-24T21:25:23.050128Z"
    },
    "id": "zs4rL-oDf7iL"
   },
   "outputs": [],
   "source": [
    "def get_descriminator_loss(real_predictions, fake_predictions):\n",
    "    real_predictions = tf.sigmoid(real_predictions)\n",
    "    fake_predictions = tf.sigmoid(fake_predictions)\n",
    "    \n",
    "    real_loss = tf.losses.binary_crossentropy(tf.ones_like(real_predictions), \n",
    "                                              real_predictions)\n",
    "    fake_loss = tf.losses.binary_crossentropy(tf.zeros_like(fake_predictions),\n",
    "                                              fake_predictions)\n",
    "    \n",
    "    return fake_loss + real_loss\n",
    "\n",
    "\n"
   ]
  },
  {
   "cell_type": "markdown",
   "metadata": {
    "id": "_3WPxwzif7iM"
   },
   "source": [
    "## Generator"
   ]
  },
  {
   "cell_type": "code",
   "execution_count": 17,
   "metadata": {
    "execution": {
     "iopub.execute_input": "2021-04-24T21:28:17.639306Z",
     "iopub.status.busy": "2021-04-24T21:28:17.638870Z",
     "iopub.status.idle": "2021-04-24T21:28:17.657305Z",
     "shell.execute_reply": "2021-04-24T21:28:17.656303Z",
     "shell.execute_reply.started": "2021-04-24T21:28:17.639306Z"
    },
    "id": "9yQBR952f7iM"
   },
   "outputs": [],
   "source": [
    "def make_generator_model():\n",
    "    \n",
    "    model = tf.keras.Sequential()\n",
    "    # H=7, W=7, filters=256  input_shape is random 100 numbers as a input\n",
    "    model.add(tf.keras.layers.Dense(7*7*256, input_shape=(100,))) \n",
    "    \n",
    "    model.add(tf.keras.layers.BatchNormalization())\n",
    "    model.add(tf.keras.layers.Reshape( (7,7,256) ))\n",
    "    model.add(tf.keras.layers.Conv2DTranspose(128, (3,3), padding='same'))\n",
    "    model.add(tf.keras.layers.BatchNormalization())\n",
    "#     model.add(tf.keras.layers.Reshape())\n",
    "    model.add(tf.keras.layers.Conv2DTranspose(64, (3,3), strides=(2,2), padding='same'))\n",
    "    model.add(tf.keras.layers.BatchNormalization())\n",
    "    model.add(tf.keras.layers.Conv2DTranspose(1, (3,3), strides=(2,2), padding='same'))\n",
    "    \n",
    "    return model\n",
    "\n",
    "    "
   ]
  },
  {
   "cell_type": "code",
   "execution_count": 18,
   "metadata": {
    "execution": {
     "iopub.execute_input": "2021-04-24T21:28:18.510635Z",
     "iopub.status.busy": "2021-04-24T21:28:18.510635Z",
     "iopub.status.idle": "2021-04-24T21:28:18.649294Z",
     "shell.execute_reply": "2021-04-24T21:28:18.648595Z",
     "shell.execute_reply.started": "2021-04-24T21:28:18.510635Z"
    },
    "id": "1EjENrlLf7iM"
   },
   "outputs": [],
   "source": [
    "generator = make_generator_model()"
   ]
  },
  {
   "cell_type": "code",
   "execution_count": 19,
   "metadata": {
    "execution": {
     "iopub.execute_input": "2021-04-24T21:28:19.126101Z",
     "iopub.status.busy": "2021-04-24T21:28:19.126101Z",
     "iopub.status.idle": "2021-04-24T21:28:19.134751Z",
     "shell.execute_reply": "2021-04-24T21:28:19.134751Z",
     "shell.execute_reply.started": "2021-04-24T21:28:19.126101Z"
    },
    "id": "Az3EzeNwf7iM"
   },
   "outputs": [],
   "source": [
    "generator_optimizer = tf.optimizers.Adam(1e-4)"
   ]
  },
  {
   "cell_type": "code",
   "execution_count": 20,
   "metadata": {
    "execution": {
     "iopub.execute_input": "2021-04-24T21:28:20.226090Z",
     "iopub.status.busy": "2021-04-24T21:28:20.226090Z",
     "iopub.status.idle": "2021-04-24T21:28:20.238089Z",
     "shell.execute_reply": "2021-04-24T21:28:20.237090Z",
     "shell.execute_reply.started": "2021-04-24T21:28:20.226090Z"
    },
    "id": "FLeQhOwbf7iN"
   },
   "outputs": [],
   "source": [
    "def get_generator_loss(fake_predictions):\n",
    "    fake_predictions = tf.sigmoid(fake_predictions)\n",
    "    \n",
    "    fake_loss = tf.losses.binary_crossentropy(tf.ones_like(fake_predictions)\\\n",
    "                                              , fake_predictions)\n",
    "    return fake_loss"
   ]
  },
  {
   "cell_type": "code",
   "execution_count": null,
   "metadata": {
    "id": "bSCSf48Jf7iN"
   },
   "outputs": [],
   "source": []
  },
  {
   "cell_type": "markdown",
   "metadata": {
    "id": "7vxIN7I6f7iN"
   },
   "source": [
    "# Training "
   ]
  },
  {
   "cell_type": "code",
   "execution_count": 21,
   "metadata": {
    "execution": {
     "iopub.execute_input": "2021-04-24T21:28:21.764153Z",
     "iopub.status.busy": "2021-04-24T21:28:21.764153Z",
     "iopub.status.idle": "2021-04-24T21:28:21.772160Z",
     "shell.execute_reply": "2021-04-24T21:28:21.772160Z",
     "shell.execute_reply.started": "2021-04-24T21:28:21.764153Z"
    },
    "id": "1WSDUCDJf7iN"
   },
   "outputs": [],
   "source": [
    "def train(dataset, epochs):\n",
    "    \n",
    "    for epoch in range(epochs):\n",
    "        \n",
    "        for images in dataset:\n",
    "#             print(images.shape)\n",
    "            images = tf.cast(images, tf.dtypes.float32)\n",
    "            train_step(images,epoch)\n",
    "            \n",
    "            "
   ]
  },
  {
   "cell_type": "code",
   "execution_count": 31,
   "metadata": {
    "execution": {
     "iopub.execute_input": "2021-04-24T21:31:47.616983Z",
     "iopub.status.busy": "2021-04-24T21:31:47.616983Z",
     "iopub.status.idle": "2021-04-24T21:31:47.629000Z",
     "shell.execute_reply": "2021-04-24T21:31:47.628050Z",
     "shell.execute_reply.started": "2021-04-24T21:31:47.616983Z"
    },
    "id": "sQV0l7KEf7iO"
   },
   "outputs": [],
   "source": [
    "def train_step(images, epoch):\n",
    "    fake_image_noise = np.random.randn(BATCH_SIZE, 100).astype('float32')\n",
    "    '''Tensorflow way of making/dealing with gradient \n",
    "        pull out gradient and to interatively use it '''\n",
    "    with tf.GradientTape() as gen_tape, tf.GradientTape() as disc_tape:\n",
    "        # With generator let's generate the images and pass some random noise\n",
    "        generated_images = generator(fake_image_noise)\n",
    "        \n",
    "        # let see how our discriminator works for real and generated images \n",
    "        real_output = model_discriminator(images)\n",
    "        fake_output = model_discriminator(generated_images)\n",
    "        \n",
    "        # calculate the loss of generator\n",
    "        gen_loss = get_generator_loss(fake_output)\n",
    "        \n",
    "        # calculate the loss of discriminator\n",
    "        disc_loss = get_descriminator_loss( real_output, fake_output)\n",
    "        \n",
    "        gradient_of_generator = gen_tape.gradient(gen_loss, generator.trainable_variables)\n",
    "        gradient_of_discriminator = disc_tape.gradient(disc_loss\n",
    "                                                       , model_discriminator.trainable_variables)\n",
    "        \n",
    "        generator_optimizer.apply_gradients(zip(gradient_of_generator\n",
    "                                                , generator.trainable_variables))\n",
    "        disriminator_optimizer.apply_gradients(zip(gradient_of_discriminator\n",
    "                                                  , model_discriminator.trainable_variables))\n",
    "#         if epoch % 2 == 0:\n",
    "#             pass\n",
    "#             print('generator loss: ', np.mean(gen_loss))\n",
    "#             print('discriminator loss: ', np.mean(disc_loss))\n",
    "        \n",
    "        # now need to use optimizer to optimize the weights "
   ]
  },
  {
   "cell_type": "code",
   "execution_count": 67,
   "metadata": {
    "execution": {
     "iopub.execute_input": "2021-04-24T22:18:57.109093Z",
     "iopub.status.busy": "2021-04-24T22:18:57.109093Z",
     "iopub.status.idle": "2021-04-24T22:40:00.052313Z",
     "shell.execute_reply": "2021-04-24T22:40:00.051316Z",
     "shell.execute_reply.started": "2021-04-24T22:18:57.109093Z"
    },
    "id": "ur6wMspUf7iP",
    "outputId": "a4ba089b-409f-4481-95a6-fad773afda60",
    "scrolled": true
   },
   "outputs": [],
   "source": [
    "train(train_dataset, 60)"
   ]
  },
  {
   "cell_type": "code",
   "execution_count": 68,
   "metadata": {
    "execution": {
     "iopub.execute_input": "2021-04-24T22:40:00.052313Z",
     "iopub.status.busy": "2021-04-24T22:40:00.052313Z",
     "iopub.status.idle": "2021-04-24T22:40:00.242217Z",
     "shell.execute_reply": "2021-04-24T22:40:00.241295Z",
     "shell.execute_reply.started": "2021-04-24T22:40:00.052313Z"
    },
    "id": "c1BjPmqZf7iP",
    "outputId": "a647fc55-7842-423b-b2b5-a82b4814109e"
   },
   "outputs": [
    {
     "name": "stdout",
     "output_type": "stream",
     "text": [
      "(1, 100)\n"
     ]
    },
    {
     "data": {
      "text/plain": [
       "<matplotlib.image.AxesImage at 0x2b01b2b00c8>"
      ]
     },
     "execution_count": 68,
     "metadata": {},
     "output_type": "execute_result"
    },
    {
     "data": {
      "image/png": "[encoded data removed]",
      "text/plain": [
       "<Figure size 432x288 with 1 Axes>"
      ]
     },
     "metadata": {
      "needs_background": "light"
     },
     "output_type": "display_data"
    }
   ],
   "source": [
    "in_digit = np.random.randn(1,100)\n",
    "print(in_digit.shape)\n",
    "# print(in_digit)\n",
    "plt.imshow(tf.reshape(generator(in_digit), (28,28)))"
   ]
  },
  {
   "cell_type": "code",
   "execution_count": 63,
   "metadata": {
    "execution": {
     "iopub.execute_input": "2021-04-24T22:00:58.403848Z",
     "iopub.status.busy": "2021-04-24T22:00:58.403848Z",
     "iopub.status.idle": "2021-04-24T22:00:58.414847Z",
     "shell.execute_reply": "2021-04-24T22:00:58.413944Z",
     "shell.execute_reply.started": "2021-04-24T22:00:58.403848Z"
    }
   },
   "outputs": [],
   "source": [
    "# for digit in range(0,10):\n",
    "# #     in_digit = np.random.randn(1,100)\n",
    "# #     print(in_digit.shape)\n",
    "#     plt.imshow(tf.reshape(generator(digit), (28,28)))"
   ]
  },
  {
   "cell_type": "code",
   "execution_count": null,
   "metadata": {
    "id": "SNbctJxzf7iP"
   },
   "outputs": [],
   "source": []
  },
  {
   "cell_type": "code",
   "execution_count": 29,
   "metadata": {
    "execution": {
     "iopub.execute_input": "2021-04-24T21:30:42.694023Z",
     "iopub.status.busy": "2021-04-24T21:30:42.693639Z",
     "iopub.status.idle": "2021-04-24T21:30:42.715024Z",
     "shell.execute_reply": "2021-04-24T21:30:42.714024Z",
     "shell.execute_reply.started": "2021-04-24T21:30:42.694023Z"
    },
    "id": "QKlBTbF-f7iQ",
    "outputId": "6d3a8a24-a9a1-4011-ccb0-c238e62c5077",
    "scrolled": true
   },
   "outputs": [
    {
     "name": "stdout",
     "output_type": "stream",
     "text": [
      "(3, 4, 3)\n"
     ]
    },
    {
     "data": {
      "text/plain": [
       "<tf.Tensor: shape=(5, 5, 3), dtype=float32, numpy=\n",
       "array([[[0., 0., 0.],\n",
       "        [0., 0., 0.],\n",
       "        [0., 0., 0.],\n",
       "        [0., 0., 0.],\n",
       "        [0., 0., 0.]],\n",
       "\n",
       "       [[1., 1., 1.],\n",
       "        [1., 1., 1.],\n",
       "        [1., 1., 1.],\n",
       "        [1., 1., 1.],\n",
       "        [0., 0., 0.]],\n",
       "\n",
       "       [[1., 1., 1.],\n",
       "        [1., 1., 1.],\n",
       "        [1., 1., 1.],\n",
       "        [1., 1., 1.],\n",
       "        [0., 0., 0.]],\n",
       "\n",
       "       [[1., 1., 1.],\n",
       "        [1., 1., 1.],\n",
       "        [1., 1., 1.],\n",
       "        [1., 1., 1.],\n",
       "        [0., 0., 0.]],\n",
       "\n",
       "       [[0., 0., 0.],\n",
       "        [0., 0., 0.],\n",
       "        [0., 0., 0.],\n",
       "        [0., 0., 0.],\n",
       "        [0., 0., 0.]]], dtype=float32)>"
      ]
     },
     "execution_count": 29,
     "metadata": {},
     "output_type": "execute_result"
    }
   ],
   "source": [
    "a = tf.ones([3, 4, 3])\n",
    "print(a.shape)\n",
    "tf.image.resize_with_crop_or_pad(a, 5, 5)"
   ]
  },
  {
   "cell_type": "code",
   "execution_count": null,
   "metadata": {
    "id": "L6jfZAbTf7iQ"
   },
   "outputs": [],
   "source": []
  },
  {
   "cell_type": "code",
   "execution_count": null,
   "metadata": {
    "id": "6HHcsbrjf7iQ"
   },
   "outputs": [],
   "source": []
  },
  {
   "cell_type": "code",
   "execution_count": null,
   "metadata": {
    "id": "kOUwdHYGf7iQ"
   },
   "outputs": [],
   "source": []
  },
  {
   "cell_type": "code",
   "execution_count": null,
   "metadata": {
    "id": "plH6xFv8f7iQ"
   },
   "outputs": [],
   "source": []
  },
  {
   "cell_type": "code",
   "execution_count": null,
   "metadata": {
    "id": "JYSZfHIbf7iR"
   },
   "outputs": [],
   "source": []
  },
  {
   "cell_type": "markdown",
   "metadata": {
    "id": "JK830vDQf7iR"
   },
   "source": [
    "# The German Traffic Sign Recognition Benchmark"
   ]
  },
  {
   "cell_type": "code",
   "execution_count": null,
   "metadata": {
    "id": "kOGgSu0ff7iR"
   },
   "outputs": [],
   "source": [
    "# function for reading the images\n",
    "# arguments: path to the traffic sign data, for example './GTSRB/Training'\n",
    "# returns: list of images, list of corresponding labels \n",
    "def readTrafficSigns(rootpath):\n",
    "    '''Reads traffic sign data for German Traffic Sign Recognition Benchmark.\n",
    "\n",
    "    Arguments: path to the traffic sign data, for example './GTSRB/Training'\n",
    "    Returns:   list of images, list of corresponding labels'''\n",
    "    images = [] # images\n",
    "    labels = [] # corresponding labels\n",
    "    # loop over all 42 classes\n",
    "    \n",
    "    for c in range(0,10): #43\n",
    "        prefix = rootpath + '/' + format(c, '05d') + '/' # subdirectory for class\n",
    "        gtFile = open(prefix + 'GT-'+ format(c, '05d') + '.csv') # annotations file\n",
    "        print(gtFile)\n",
    "        gtReader = csv.reader(gtFile, delimiter=';') # csv parser for annotations file\n",
    "        print(\"Headers:\",gtReader.__next__())\n",
    "        # next(gtReader)\n",
    "        #gtReader.next() # skip header\n",
    "        # loop over all images in current annotations file\n",
    "        for row in gtReader:\n",
    "            images.append(plt.imread(prefix + row[0])) # the 1th column is the filename\n",
    "            labels.append(row[7]) # the 8th column is the label\n",
    "        gtFile.close()\n",
    "    return images, labels"
   ]
  },
  {
   "cell_type": "code",
   "execution_count": null,
   "metadata": {
    "id": "pFt0RLB_f7iR",
    "outputId": "8e54c2ba-9154-488f-f04d-46421c06de02",
    "scrolled": true
   },
   "outputs": [
    {
     "name": "stdout",
     "output_type": "stream",
     "text": [
      "<_io.TextIOWrapper name='GTSRB/Final_Training/Images//00000/GT-00000.csv' mode='r' encoding='UTF-8'>\n",
      "Headers: ['Filename', 'Width', 'Height', 'Roi.X1', 'Roi.Y1', 'Roi.X2', 'Roi.Y2', 'ClassId']\n",
      "<_io.TextIOWrapper name='GTSRB/Final_Training/Images//00001/GT-00001.csv' mode='r' encoding='UTF-8'>\n",
      "Headers: ['Filename', 'Width', 'Height', 'Roi.X1', 'Roi.Y1', 'Roi.X2', 'Roi.Y2', 'ClassId']\n",
      "<_io.TextIOWrapper name='GTSRB/Final_Training/Images//00002/GT-00002.csv' mode='r' encoding='UTF-8'>\n",
      "Headers: ['Filename', 'Width', 'Height', 'Roi.X1', 'Roi.Y1', 'Roi.X2', 'Roi.Y2', 'ClassId']\n",
      "<_io.TextIOWrapper name='GTSRB/Final_Training/Images//00003/GT-00003.csv' mode='r' encoding='UTF-8'>\n",
      "Headers: ['Filename', 'Width', 'Height', 'Roi.X1', 'Roi.Y1', 'Roi.X2', 'Roi.Y2', 'ClassId']\n",
      "<_io.TextIOWrapper name='GTSRB/Final_Training/Images//00004/GT-00004.csv' mode='r' encoding='UTF-8'>\n",
      "Headers: ['Filename', 'Width', 'Height', 'Roi.X1', 'Roi.Y1', 'Roi.X2', 'Roi.Y2', 'ClassId']\n",
      "<_io.TextIOWrapper name='GTSRB/Final_Training/Images//00005/GT-00005.csv' mode='r' encoding='UTF-8'>\n",
      "Headers: ['Filename', 'Width', 'Height', 'Roi.X1', 'Roi.Y1', 'Roi.X2', 'Roi.Y2', 'ClassId']\n",
      "<_io.TextIOWrapper name='GTSRB/Final_Training/Images//00006/GT-00006.csv' mode='r' encoding='UTF-8'>\n",
      "Headers: ['Filename', 'Width', 'Height', 'Roi.X1', 'Roi.Y1', 'Roi.X2', 'Roi.Y2', 'ClassId']\n",
      "<_io.TextIOWrapper name='GTSRB/Final_Training/Images//00007/GT-00007.csv' mode='r' encoding='UTF-8'>\n",
      "Headers: ['Filename', 'Width', 'Height', 'Roi.X1', 'Roi.Y1', 'Roi.X2', 'Roi.Y2', 'ClassId']\n",
      "<_io.TextIOWrapper name='GTSRB/Final_Training/Images//00008/GT-00008.csv' mode='r' encoding='UTF-8'>\n",
      "Headers: ['Filename', 'Width', 'Height', 'Roi.X1', 'Roi.Y1', 'Roi.X2', 'Roi.Y2', 'ClassId']\n",
      "<_io.TextIOWrapper name='GTSRB/Final_Training/Images//00009/GT-00009.csv' mode='r' encoding='UTF-8'>\n",
      "Headers: ['Filename', 'Width', 'Height', 'Roi.X1', 'Roi.Y1', 'Roi.X2', 'Roi.Y2', 'ClassId']\n",
      "14670 14670\n"
     ]
    },
    {
     "data": {
      "image/png": "[encoded data removed]",
      "text/plain": [
       "<Figure size 432x288 with 1 Axes>"
      ]
     },
     "metadata": {
      "needs_background": "light",
      "tags": []
     },
     "output_type": "display_data"
    }
   ],
   "source": [
    "train_path=\"GTSRB/Final_Training/Images/\"\n",
    "trainImages, trainLabels = readTrafficSigns(train_path)\n",
    "print(len(trainLabels), len(trainImages))\n",
    "plt.imshow(trainImages[42]);\n",
    "plt.show();"
   ]
  },
  {
   "cell_type": "code",
   "execution_count": null,
   "metadata": {
    "id": "eAVxR33ef7iS"
   },
   "outputs": [],
   "source": [
    "import tensorflow.compat.v1 as tfGk"
   ]
  },
  {
   "cell_type": "code",
   "execution_count": null,
   "metadata": {
    "id": "jG90bnoWf7iS"
   },
   "outputs": [],
   "source": [
    "noise_limit = 0.35\n",
    "noise_l2_weight = 0.02\n",
    "ADVERSARY_VARIABLES = 'adversary_variables'\n"
   ]
  },
  {
   "cell_type": "code",
   "execution_count": null,
   "metadata": {
    "id": "QRKHsHcLf7iS"
   },
   "outputs": [],
   "source": [
    "collections = [tfGk.GraphKeys.GLOBAL_VARIABLES, ADVERSARY_VARIABLES]"
   ]
  },
  {
   "cell_type": "code",
   "execution_count": null,
   "metadata": {
    "id": "khU_o8XZf7iS"
   },
   "outputs": [],
   "source": [
    "x_noise = tf.Variable(tf.zeros([img_size, img_size, num_channels]),\n",
    "                      name='x_noise', trainable=False,\n",
    "                      collections=collections)"
   ]
  },
  {
   "cell_type": "code",
   "execution_count": null,
   "metadata": {
    "id": "ykJH6rmgf7iS"
   },
   "outputs": [],
   "source": []
  },
  {
   "cell_type": "code",
   "execution_count": null,
   "metadata": {
    "id": "p_l8KhCcf7iS"
   },
   "outputs": [],
   "source": []
  }
 ],
 "metadata": {
  "colab": {
   "name": "cs540-project-GANs-MNIST.ipynb",
   "provenance": []
  },
  "kernelspec": {
   "display_name": "Python 3",
   "language": "python",
   "name": "python3"
  },
  "language_info": {
   "codemirror_mode": {
    "name": "ipython",
    "version": 3
   },
   "file_extension": ".py",
   "mimetype": "text/x-python",
   "name": "python",
   "nbconvert_exporter": "python",
   "pygments_lexer": "ipython3",
   "version": "3.7.6"
  }
 },
 "nbformat": 4,
 "nbformat_minor": 4
}
